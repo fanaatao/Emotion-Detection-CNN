{
  "nbformat": 4,
  "nbformat_minor": 0,
  "metadata": {
    "colab": {
      "name": "Facial Emotion Recognition using CNN.ipynb",
      "provenance": [],
      "collapsed_sections": []
    },
    "kernelspec": {
      "name": "python3",
      "display_name": "Python 3"
    },
    "accelerator": "GPU"
  },
  "cells": [
    {
      "cell_type": "markdown",
      "metadata": {
        "id": "ztky6L9E-lnP",
        "colab_type": "text"
      },
      "source": [
        "# **Facial Emotion Recognition**\n",
        "\n",
        "\n",
        "\n",
        "\n",
        "\n",
        "\n",
        "Dataset - https://www.kaggle.com/c/challenges-in-representation-learning-facial-expression-recognition-challenge/data\n"
      ]
    },
    {
      "cell_type": "code",
      "metadata": {
        "id": "CHrzqEejOjR9",
        "colab_type": "code",
        "colab": {}
      },
      "source": [
        "_author_ = \" Prudhvi_GNV \""
      ],
      "execution_count": null,
      "outputs": []
    },
    {
      "cell_type": "markdown",
      "metadata": {
        "id": "9CULEspsFALh",
        "colab_type": "text"
      },
      "source": [
        "**kaggle --account--Api**\n",
        "API's are used to access data from kaggle\n",
        "1. kaggle a/c -> my profile -> create api token\n",
        "2. In colabs ..while uploading api file... go to /content\n",
        "3. make .kaggle directory in /root \n",
        "4. copy kaggle api from /content to /root/.kaggle\n",
        "5. kaggle cmd(find in kaggle dataset page-> data) to download\n",
        "6. unzip the downloaded dataset\n"
      ]
    },
    {
      "cell_type": "code",
      "metadata": {
        "id": "tbi7hj_R8_yD",
        "colab_type": "code",
        "colab": {
          "base_uri": "https://localhost:8080/",
          "height": 35
        },
        "outputId": "821b2a4d-cf9c-4511-db4e-81d97a403842"
      },
      "source": [
        "pwd"
      ],
      "execution_count": null,
      "outputs": [
        {
          "output_type": "execute_result",
          "data": {
            "application/vnd.google.colaboratory.intrinsic": {
              "type": "string"
            },
            "text/plain": [
              "'/content'"
            ]
          },
          "metadata": {
            "tags": []
          },
          "execution_count": 1
        }
      ]
    },
    {
      "cell_type": "code",
      "metadata": {
        "id": "nt4jf1OW_6gf",
        "colab_type": "code",
        "colab": {
          "base_uri": "https://localhost:8080/",
          "height": 34
        },
        "outputId": "19a22d24-44f2-4198-a522-706ec250a91f"
      },
      "source": [
        "cd /root"
      ],
      "execution_count": null,
      "outputs": [
        {
          "output_type": "stream",
          "text": [
            "/root\n"
          ],
          "name": "stdout"
        }
      ]
    },
    {
      "cell_type": "code",
      "metadata": {
        "id": "PEY-3HG5AHFB",
        "colab_type": "code",
        "colab": {}
      },
      "source": [
        "mkdir .kaggle               # .kaggle not /.kaggle"
      ],
      "execution_count": null,
      "outputs": []
    },
    {
      "cell_type": "code",
      "metadata": {
        "id": "cNO-HFFq85a0",
        "colab_type": "code",
        "colab": {
          "base_uri": "https://localhost:8080/",
          "height": 34
        },
        "outputId": "d4247e10-6aab-422b-a1bc-2dc90ed1a465"
      },
      "source": [
        "cd /root/.kaggle"
      ],
      "execution_count": null,
      "outputs": [
        {
          "output_type": "stream",
          "text": [
            "/root/.kaggle\n"
          ],
          "name": "stdout"
        }
      ]
    },
    {
      "cell_type": "code",
      "metadata": {
        "id": "pqSXEsJ29HP7",
        "colab_type": "code",
        "colab": {}
      },
      "source": [
        "!cp /content/kaggle.json ~/.kaggle \n"
      ],
      "execution_count": null,
      "outputs": []
    },
    {
      "cell_type": "code",
      "metadata": {
        "id": "bN48VBLQpQb3",
        "colab_type": "code",
        "colab": {
          "base_uri": "https://localhost:8080/",
          "height": 35
        },
        "outputId": "ca46b866-1ee6-4b15-d5e4-b8c04257c39f"
      },
      "source": [
        "pwd"
      ],
      "execution_count": null,
      "outputs": [
        {
          "output_type": "execute_result",
          "data": {
            "application/vnd.google.colaboratory.intrinsic": {
              "type": "string"
            },
            "text/plain": [
              "'/root/.kaggle'"
            ]
          },
          "metadata": {
            "tags": []
          },
          "execution_count": 6
        }
      ]
    },
    {
      "cell_type": "code",
      "metadata": {
        "id": "3YSkULw_pT0c",
        "colab_type": "code",
        "colab": {
          "base_uri": "https://localhost:8080/",
          "height": 34
        },
        "outputId": "80e39c48-8bb8-49ab-c1cd-857aa1cca10a"
      },
      "source": [
        "ls"
      ],
      "execution_count": null,
      "outputs": [
        {
          "output_type": "stream",
          "text": [
            "kaggle.json\n"
          ],
          "name": "stdout"
        }
      ]
    },
    {
      "cell_type": "code",
      "metadata": {
        "id": "4Vlkz9IP9otV",
        "colab_type": "code",
        "colab": {
          "base_uri": "https://localhost:8080/",
          "height": 34
        },
        "outputId": "f83ebad3-f048-47f0-d3ee-9b3b8f18a37b"
      },
      "source": [
        "ls"
      ],
      "execution_count": null,
      "outputs": [
        {
          "output_type": "stream",
          "text": [
            "kaggle.json\n"
          ],
          "name": "stdout"
        }
      ]
    },
    {
      "cell_type": "code",
      "metadata": {
        "id": "LEkxCltOmE5v",
        "colab_type": "code",
        "colab": {
          "base_uri": "https://localhost:8080/",
          "height": 258
        },
        "outputId": "30fc2762-aa92-452e-f9fd-4c5525d13f27"
      },
      "source": [
        "# if ..looks like outdated api ..server version ERROR occurs\n",
        "!pip install --upgrade --force-reinstall --no-deps kaggle"
      ],
      "execution_count": null,
      "outputs": [
        {
          "output_type": "stream",
          "text": [
            "Collecting kaggle\n",
            "\u001b[?25l  Downloading https://files.pythonhosted.org/packages/62/ab/bb20f9b9e24f9a6250f95a432f8d9a7d745f8d24039d7a5a6eaadb7783ba/kaggle-1.5.6.tar.gz (58kB)\n",
            "\r\u001b[K     |█████▋                          | 10kB 24.4MB/s eta 0:00:01\r\u001b[K     |███████████▎                    | 20kB 6.1MB/s eta 0:00:01\r\u001b[K     |█████████████████               | 30kB 7.4MB/s eta 0:00:01\r\u001b[K     |██████████████████████▌         | 40kB 8.1MB/s eta 0:00:01\r\u001b[K     |████████████████████████████▏   | 51kB 6.8MB/s eta 0:00:01\r\u001b[K     |████████████████████████████████| 61kB 3.4MB/s \n",
            "\u001b[?25hBuilding wheels for collected packages: kaggle\n",
            "  Building wheel for kaggle (setup.py) ... \u001b[?25l\u001b[?25hdone\n",
            "  Created wheel for kaggle: filename=kaggle-1.5.6-cp36-none-any.whl size=72859 sha256=0689620788124ce19b2ecf97618b3447d3c4da0549599431734918529a9826aa\n",
            "  Stored in directory: /root/.cache/pip/wheels/57/4e/e8/bb28d035162fb8f17f8ca5d42c3230e284c6aa565b42b72674\n",
            "Successfully built kaggle\n",
            "Installing collected packages: kaggle\n",
            "  Found existing installation: kaggle 1.5.6\n",
            "    Uninstalling kaggle-1.5.6:\n",
            "      Successfully uninstalled kaggle-1.5.6\n",
            "Successfully installed kaggle-1.5.6\n"
          ],
          "name": "stdout"
        }
      ]
    },
    {
      "cell_type": "code",
      "metadata": {
        "id": "ytfZi3nJmilT",
        "colab_type": "code",
        "colab": {}
      },
      "source": [
        "#if ..only read permisions ..ERROR\n",
        "!chmod 600 /root/.kaggle/kaggle.json"
      ],
      "execution_count": null,
      "outputs": []
    },
    {
      "cell_type": "code",
      "metadata": {
        "id": "yTPl804d77nk",
        "colab_type": "code",
        "colab": {
          "base_uri": "https://localhost:8080/",
          "height": 68
        },
        "outputId": "e3bf67fe-e747-4999-8321-ecfc11f9840d"
      },
      "source": [
        "# if 403 forbidden ERROR ... then accept the rules in kaggle dataset page\n",
        "\n",
        "!kaggle competitions download -c challenges-in-representation-learning-facial-expression-recognition-challenge"
      ],
      "execution_count": null,
      "outputs": [
        {
          "output_type": "stream",
          "text": [
            "Downloading challenges-in-representation-learning-facial-expression-recognition-challenge.zip to /root/.kaggle\n",
            " 96% 273M/285M [00:05<00:00, 38.1MB/s]\n",
            "100% 285M/285M [00:05<00:00, 50.1MB/s]\n"
          ],
          "name": "stdout"
        }
      ]
    },
    {
      "cell_type": "code",
      "metadata": {
        "id": "grCSTKE-_UG3",
        "colab_type": "code",
        "colab": {
          "base_uri": "https://localhost:8080/",
          "height": 51
        },
        "outputId": "c23805f9-096b-42b4-aa2f-ecf05809922e"
      },
      "source": [
        "ls"
      ],
      "execution_count": null,
      "outputs": [
        {
          "output_type": "stream",
          "text": [
            "challenges-in-representation-learning-facial-expression-recognition-challenge.zip\n",
            "kaggle.json\n"
          ],
          "name": "stdout"
        }
      ]
    },
    {
      "cell_type": "code",
      "metadata": {
        "id": "MEobtx6O9qvT",
        "colab_type": "code",
        "colab": {
          "base_uri": "https://localhost:8080/",
          "height": 119
        },
        "outputId": "d2252ea3-ed19-49c4-86f5-4a248f8e9082"
      },
      "source": [
        "!unzip challenges-in-representation-learning-facial-expression-recognition-challenge.zip"
      ],
      "execution_count": null,
      "outputs": [
        {
          "output_type": "stream",
          "text": [
            "Archive:  challenges-in-representation-learning-facial-expression-recognition-challenge.zip\n",
            "  inflating: example_submission.csv  \n",
            "  inflating: fer2013.tar.gz          \n",
            "  inflating: icml_face_data.csv      \n",
            "  inflating: test.csv                \n",
            "  inflating: train.csv               \n"
          ],
          "name": "stdout"
        }
      ]
    },
    {
      "cell_type": "code",
      "metadata": {
        "id": "fAiYFWW7_vMT",
        "colab_type": "code",
        "colab": {
          "base_uri": "https://localhost:8080/",
          "height": 136
        },
        "outputId": "ce44cebc-d1e3-4f07-9b65-c38ffc0d2b4f"
      },
      "source": [
        "ls"
      ],
      "execution_count": null,
      "outputs": [
        {
          "output_type": "stream",
          "text": [
            "challenges-in-representation-learning-facial-expression-recognition-challenge.zip\n",
            "example_submission.csv\n",
            "fer2013.tar.gz\n",
            "icml_face_data.csv\n",
            "kaggle.json\n",
            "test.csv\n",
            "train.csv\n"
          ],
          "name": "stdout"
        }
      ]
    },
    {
      "cell_type": "code",
      "metadata": {
        "id": "oQgMssSBwypP",
        "colab_type": "code",
        "colab": {}
      },
      "source": [
        "!tar -xf fer2013.tar.gz   # x= extract , f= to create archive"
      ],
      "execution_count": null,
      "outputs": []
    },
    {
      "cell_type": "code",
      "metadata": {
        "id": "tiO3ojiRw4wW",
        "colab_type": "code",
        "colab": {
          "base_uri": "https://localhost:8080/",
          "height": 153
        },
        "outputId": "e0e40a5c-a7b9-4b91-9082-966b73da2aa8"
      },
      "source": [
        "ls"
      ],
      "execution_count": null,
      "outputs": [
        {
          "output_type": "stream",
          "text": [
            "challenges-in-representation-learning-facial-expression-recognition-challenge.zip\n",
            "example_submission.csv\n",
            "\u001b[0m\u001b[01;34mfer2013\u001b[0m/\n",
            "fer2013.tar.gz\n",
            "icml_face_data.csv\n",
            "kaggle.json\n",
            "test.csv\n",
            "train.csv\n"
          ],
          "name": "stdout"
        }
      ]
    },
    {
      "cell_type": "code",
      "metadata": {
        "id": "LIq55w1FF5fQ",
        "colab_type": "code",
        "colab": {
          "base_uri": "https://localhost:8080/",
          "height": 34
        },
        "outputId": "04b0e543-2e6f-4f3c-f969-eba890e9be24"
      },
      "source": [
        "cd fer2013"
      ],
      "execution_count": null,
      "outputs": [
        {
          "output_type": "stream",
          "text": [
            "/root/.kaggle/fer2013\n"
          ],
          "name": "stdout"
        }
      ]
    },
    {
      "cell_type": "code",
      "metadata": {
        "id": "YaVtewzUF-zA",
        "colab_type": "code",
        "colab": {
          "base_uri": "https://localhost:8080/",
          "height": 34
        },
        "outputId": "a534b5ca-77cd-488c-cfd2-2c6e1af274cc"
      },
      "source": [
        "ls"
      ],
      "execution_count": null,
      "outputs": [
        {
          "output_type": "stream",
          "text": [
            "fer2013.bib  fer2013.csv  README\n"
          ],
          "name": "stdout"
        }
      ]
    },
    {
      "cell_type": "markdown",
      "metadata": {
        "id": "9YeU4HHZ_bS4",
        "colab_type": "text"
      },
      "source": [
        "## **Dataset**\n",
        "* The data consists of 48x48 pixel grayscale images of faces. \n",
        " \n",
        "* The task is to categorize each face based on the emotion shown in the facial expression in to one of seven categories (0=Angry, 1=Disgust, 2=Fear, 3=Happy, 4=Sad, 5=Surprise, 6=Neutral).\n",
        "* Dataset contains two columns, \"emotion\" and \"pixels\".\n",
        "* The \"emotion\" column contains a numeric code ranging from 0 to 6, inclusive, for the emotion that is present in the image. \n",
        "* The \"pixels\" column contains a string surrounded in quotes for each image. The contents of this string a space-separated pixel values in row major order. test.csv contains only the \"pixels\" column and your task is to predict the emotion column."
      ]
    },
    {
      "cell_type": "markdown",
      "metadata": {
        "id": "7Zu89RTzBMty",
        "colab_type": "text"
      },
      "source": [
        "# Data Visualization\n",
        "\n",
        "* powerful visualization tools => matplotlib, seaborn\n",
        "      1. matplotlib works on pandas dataframe\n",
        "      2.  matplotlib => basic ploting =>bars,pie,scatter, lines etc.. => used for MATLAB like graphs\n",
        "      3. seaborn => statistical ploting => depends on matplotlib...high level => provides default templates"
      ]
    },
    {
      "cell_type": "code",
      "metadata": {
        "id": "xcfiDv03-cGX",
        "colab_type": "code",
        "colab": {
          "base_uri": "https://localhost:8080/",
          "height": 71
        },
        "outputId": "b97002a4-fa58-4cf7-d3d0-8e4b7394ef20"
      },
      "source": [
        "\"\"\" IMPORT ALL DEPENDENCIES\"\"\"\n",
        "\n",
        "\n",
        "# NumPy for numerical computing\n",
        "import numpy as np\n",
        "\n",
        "# Pandas for DataFrames\n",
        "import pandas as pd\n",
        "\n",
        "# Matplotlib for visualization\n",
        "from matplotlib import pyplot as plt\n",
        "# display plots in the notebook\n",
        "%matplotlib inline\n",
        "# import color maps\n",
        "from matplotlib.colors import ListedColormap\n",
        "\n",
        "# Seaborn for easier visualization\n",
        "import seaborn as sns"
      ],
      "execution_count": 19,
      "outputs": [
        {
          "output_type": "stream",
          "text": [
            "/usr/local/lib/python3.6/dist-packages/statsmodels/tools/_testing.py:19: FutureWarning: pandas.util.testing is deprecated. Use the functions in the public API at pandas.testing instead.\n",
            "  import pandas.util.testing as tm\n"
          ],
          "name": "stderr"
        }
      ]
    },
    {
      "cell_type": "code",
      "metadata": {
        "id": "iTJESy7QA-5E",
        "colab_type": "code",
        "colab": {
          "base_uri": "https://localhost:8080/",
          "height": 204
        },
        "outputId": "624d7579-649e-4869-f3e8-b9ef0ffca898"
      },
      "source": [
        "df = pd.read_csv(\"/root/.kaggle/fer2013/fer2013.csv\")\n",
        "df.head()"
      ],
      "execution_count": null,
      "outputs": [
        {
          "output_type": "execute_result",
          "data": {
            "text/html": [
              "<div>\n",
              "<style scoped>\n",
              "    .dataframe tbody tr th:only-of-type {\n",
              "        vertical-align: middle;\n",
              "    }\n",
              "\n",
              "    .dataframe tbody tr th {\n",
              "        vertical-align: top;\n",
              "    }\n",
              "\n",
              "    .dataframe thead th {\n",
              "        text-align: right;\n",
              "    }\n",
              "</style>\n",
              "<table border=\"1\" class=\"dataframe\">\n",
              "  <thead>\n",
              "    <tr style=\"text-align: right;\">\n",
              "      <th></th>\n",
              "      <th>emotion</th>\n",
              "      <th>pixels</th>\n",
              "      <th>Usage</th>\n",
              "    </tr>\n",
              "  </thead>\n",
              "  <tbody>\n",
              "    <tr>\n",
              "      <th>0</th>\n",
              "      <td>0</td>\n",
              "      <td>70 80 82 72 58 58 60 63 54 58 60 48 89 115 121...</td>\n",
              "      <td>Training</td>\n",
              "    </tr>\n",
              "    <tr>\n",
              "      <th>1</th>\n",
              "      <td>0</td>\n",
              "      <td>151 150 147 155 148 133 111 140 170 174 182 15...</td>\n",
              "      <td>Training</td>\n",
              "    </tr>\n",
              "    <tr>\n",
              "      <th>2</th>\n",
              "      <td>2</td>\n",
              "      <td>231 212 156 164 174 138 161 173 182 200 106 38...</td>\n",
              "      <td>Training</td>\n",
              "    </tr>\n",
              "    <tr>\n",
              "      <th>3</th>\n",
              "      <td>4</td>\n",
              "      <td>24 32 36 30 32 23 19 20 30 41 21 22 32 34 21 1...</td>\n",
              "      <td>Training</td>\n",
              "    </tr>\n",
              "    <tr>\n",
              "      <th>4</th>\n",
              "      <td>6</td>\n",
              "      <td>4 0 0 0 0 0 0 0 0 0 0 0 3 15 23 28 48 50 58 84...</td>\n",
              "      <td>Training</td>\n",
              "    </tr>\n",
              "  </tbody>\n",
              "</table>\n",
              "</div>"
            ],
            "text/plain": [
              "   emotion                                             pixels     Usage\n",
              "0        0  70 80 82 72 58 58 60 63 54 58 60 48 89 115 121...  Training\n",
              "1        0  151 150 147 155 148 133 111 140 170 174 182 15...  Training\n",
              "2        2  231 212 156 164 174 138 161 173 182 200 106 38...  Training\n",
              "3        4  24 32 36 30 32 23 19 20 30 41 21 22 32 34 21 1...  Training\n",
              "4        6  4 0 0 0 0 0 0 0 0 0 0 0 3 15 23 28 48 50 58 84...  Training"
            ]
          },
          "metadata": {
            "tags": []
          },
          "execution_count": 20
        }
      ]
    },
    {
      "cell_type": "code",
      "metadata": {
        "id": "gbnhU1whADCT",
        "colab_type": "code",
        "colab": {
          "base_uri": "https://localhost:8080/",
          "height": 419
        },
        "outputId": "4c45e608-8b5b-4a63-a0ab-c75f37ec8b69"
      },
      "source": [
        "df"
      ],
      "execution_count": null,
      "outputs": [
        {
          "output_type": "execute_result",
          "data": {
            "text/html": [
              "<div>\n",
              "<style scoped>\n",
              "    .dataframe tbody tr th:only-of-type {\n",
              "        vertical-align: middle;\n",
              "    }\n",
              "\n",
              "    .dataframe tbody tr th {\n",
              "        vertical-align: top;\n",
              "    }\n",
              "\n",
              "    .dataframe thead th {\n",
              "        text-align: right;\n",
              "    }\n",
              "</style>\n",
              "<table border=\"1\" class=\"dataframe\">\n",
              "  <thead>\n",
              "    <tr style=\"text-align: right;\">\n",
              "      <th></th>\n",
              "      <th>emotion</th>\n",
              "      <th>pixels</th>\n",
              "      <th>Usage</th>\n",
              "    </tr>\n",
              "  </thead>\n",
              "  <tbody>\n",
              "    <tr>\n",
              "      <th>0</th>\n",
              "      <td>0</td>\n",
              "      <td>70 80 82 72 58 58 60 63 54 58 60 48 89 115 121...</td>\n",
              "      <td>Training</td>\n",
              "    </tr>\n",
              "    <tr>\n",
              "      <th>1</th>\n",
              "      <td>0</td>\n",
              "      <td>151 150 147 155 148 133 111 140 170 174 182 15...</td>\n",
              "      <td>Training</td>\n",
              "    </tr>\n",
              "    <tr>\n",
              "      <th>2</th>\n",
              "      <td>2</td>\n",
              "      <td>231 212 156 164 174 138 161 173 182 200 106 38...</td>\n",
              "      <td>Training</td>\n",
              "    </tr>\n",
              "    <tr>\n",
              "      <th>3</th>\n",
              "      <td>4</td>\n",
              "      <td>24 32 36 30 32 23 19 20 30 41 21 22 32 34 21 1...</td>\n",
              "      <td>Training</td>\n",
              "    </tr>\n",
              "    <tr>\n",
              "      <th>4</th>\n",
              "      <td>6</td>\n",
              "      <td>4 0 0 0 0 0 0 0 0 0 0 0 3 15 23 28 48 50 58 84...</td>\n",
              "      <td>Training</td>\n",
              "    </tr>\n",
              "    <tr>\n",
              "      <th>...</th>\n",
              "      <td>...</td>\n",
              "      <td>...</td>\n",
              "      <td>...</td>\n",
              "    </tr>\n",
              "    <tr>\n",
              "      <th>35882</th>\n",
              "      <td>6</td>\n",
              "      <td>50 36 17 22 23 29 33 39 34 37 37 37 39 43 48 5...</td>\n",
              "      <td>PrivateTest</td>\n",
              "    </tr>\n",
              "    <tr>\n",
              "      <th>35883</th>\n",
              "      <td>3</td>\n",
              "      <td>178 174 172 173 181 188 191 194 196 199 200 20...</td>\n",
              "      <td>PrivateTest</td>\n",
              "    </tr>\n",
              "    <tr>\n",
              "      <th>35884</th>\n",
              "      <td>0</td>\n",
              "      <td>17 17 16 23 28 22 19 17 25 26 20 24 31 19 27 9...</td>\n",
              "      <td>PrivateTest</td>\n",
              "    </tr>\n",
              "    <tr>\n",
              "      <th>35885</th>\n",
              "      <td>3</td>\n",
              "      <td>30 28 28 29 31 30 42 68 79 81 77 67 67 71 63 6...</td>\n",
              "      <td>PrivateTest</td>\n",
              "    </tr>\n",
              "    <tr>\n",
              "      <th>35886</th>\n",
              "      <td>2</td>\n",
              "      <td>19 13 14 12 13 16 21 33 50 57 71 84 97 108 122...</td>\n",
              "      <td>PrivateTest</td>\n",
              "    </tr>\n",
              "  </tbody>\n",
              "</table>\n",
              "<p>35887 rows × 3 columns</p>\n",
              "</div>"
            ],
            "text/plain": [
              "       emotion                                             pixels        Usage\n",
              "0            0  70 80 82 72 58 58 60 63 54 58 60 48 89 115 121...     Training\n",
              "1            0  151 150 147 155 148 133 111 140 170 174 182 15...     Training\n",
              "2            2  231 212 156 164 174 138 161 173 182 200 106 38...     Training\n",
              "3            4  24 32 36 30 32 23 19 20 30 41 21 22 32 34 21 1...     Training\n",
              "4            6  4 0 0 0 0 0 0 0 0 0 0 0 3 15 23 28 48 50 58 84...     Training\n",
              "...        ...                                                ...          ...\n",
              "35882        6  50 36 17 22 23 29 33 39 34 37 37 37 39 43 48 5...  PrivateTest\n",
              "35883        3  178 174 172 173 181 188 191 194 196 199 200 20...  PrivateTest\n",
              "35884        0  17 17 16 23 28 22 19 17 25 26 20 24 31 19 27 9...  PrivateTest\n",
              "35885        3  30 28 28 29 31 30 42 68 79 81 77 67 67 71 63 6...  PrivateTest\n",
              "35886        2  19 13 14 12 13 16 21 33 50 57 71 84 97 108 122...  PrivateTest\n",
              "\n",
              "[35887 rows x 3 columns]"
            ]
          },
          "metadata": {
            "tags": []
          },
          "execution_count": 21
        }
      ]
    },
    {
      "cell_type": "code",
      "metadata": {
        "id": "prR_SJxiBA8U",
        "colab_type": "code",
        "colab": {
          "base_uri": "https://localhost:8080/",
          "height": 34
        },
        "outputId": "df4086bb-a7fb-4fcb-fd1a-755a89841b01"
      },
      "source": [
        "df.shape"
      ],
      "execution_count": null,
      "outputs": [
        {
          "output_type": "execute_result",
          "data": {
            "text/plain": [
              "(35887, 3)"
            ]
          },
          "metadata": {
            "tags": []
          },
          "execution_count": 22
        }
      ]
    },
    {
      "cell_type": "markdown",
      "metadata": {
        "id": "k39FElpEMVju",
        "colab_type": "text"
      },
      "source": [
        "## **Plotting emotion**"
      ]
    },
    {
      "cell_type": "code",
      "metadata": {
        "id": "ZidMumXvBzpr",
        "colab_type": "code",
        "colab": {
          "base_uri": "https://localhost:8080/",
          "height": 296
        },
        "outputId": "5dca35ad-5622-495b-ed70-04b02154e64d"
      },
      "source": [
        "\"\"\" matplotlib => to define size , sns => to use counterplot \"\"\"\n",
        "\n",
        "plt.figure(figsize=(9,4))\n",
        "sns.countplot(x='emotion', data=df)"
      ],
      "execution_count": null,
      "outputs": [
        {
          "output_type": "execute_result",
          "data": {
            "text/plain": [
              "<matplotlib.axes._subplots.AxesSubplot at 0x7fcd333b8d30>"
            ]
          },
          "metadata": {
            "tags": []
          },
          "execution_count": 23
        },
        {
          "output_type": "display_data",
          "data": {
            "image/png": "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\n",
            "text/plain": [
              "<Figure size 648x288 with 1 Axes>"
            ]
          },
          "metadata": {
            "tags": [],
            "needs_background": "light"
          }
        }
      ]
    },
    {
      "cell_type": "code",
      "metadata": {
        "id": "7qEMmC3ILEtp",
        "colab_type": "code",
        "colab": {
          "base_uri": "https://localhost:8080/",
          "height": 153
        },
        "outputId": "927affad-d1b7-4dcc-f584-7ebc7886d6cf"
      },
      "source": [
        "df['emotion'].value_counts()"
      ],
      "execution_count": null,
      "outputs": [
        {
          "output_type": "execute_result",
          "data": {
            "text/plain": [
              "3    8989\n",
              "6    6198\n",
              "4    6077\n",
              "2    5121\n",
              "0    4953\n",
              "5    4002\n",
              "1     547\n",
              "Name: emotion, dtype: int64"
            ]
          },
          "metadata": {
            "tags": []
          },
          "execution_count": 24
        }
      ]
    },
    {
      "cell_type": "markdown",
      "metadata": {
        "id": "Wah5ra4rMB0O",
        "colab_type": "text"
      },
      "source": [
        "* where ** 0=Angry, 1=Disgust, 2=Fear, 3=Happy, 4=Sad, 5=Surprise, 6=Neutral**"
      ]
    },
    {
      "cell_type": "markdown",
      "metadata": {
        "id": "iblqx4zrSuUY",
        "colab_type": "text"
      },
      "source": [
        "### Observation\n",
        "* for Digust we have about 547 images only very less. "
      ]
    },
    {
      "cell_type": "markdown",
      "metadata": {
        "id": "I4G1tEVgMnl0",
        "colab_type": "text"
      },
      "source": [
        "## **Plotting Usage**"
      ]
    },
    {
      "cell_type": "code",
      "metadata": {
        "id": "JL5-9TQJMAbi",
        "colab_type": "code",
        "colab": {
          "base_uri": "https://localhost:8080/",
          "height": 299
        },
        "outputId": "4ab89dbf-dc7d-4b0f-8961-d5c3d50848ea"
      },
      "source": [
        "plt.figure(figsize=(9,4))\n",
        "sns.countplot(x='Usage', data=df)"
      ],
      "execution_count": null,
      "outputs": [
        {
          "output_type": "execute_result",
          "data": {
            "text/plain": [
              "<matplotlib.axes._subplots.AxesSubplot at 0x7fcd332b23c8>"
            ]
          },
          "metadata": {
            "tags": []
          },
          "execution_count": 25
        },
        {
          "output_type": "display_data",
          "data": {
            "image/png": "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\n",
            "text/plain": [
              "<Figure size 648x288 with 1 Axes>"
            ]
          },
          "metadata": {
            "tags": [],
            "needs_background": "light"
          }
        }
      ]
    },
    {
      "cell_type": "code",
      "metadata": {
        "id": "bTzE2z-2Lpsh",
        "colab_type": "code",
        "colab": {
          "base_uri": "https://localhost:8080/",
          "height": 85
        },
        "outputId": "ff1d16a4-c894-4bbf-e5b7-ea366f344598"
      },
      "source": [
        "df['Usage'].value_counts()"
      ],
      "execution_count": null,
      "outputs": [
        {
          "output_type": "execute_result",
          "data": {
            "text/plain": [
              "Training       28709\n",
              "PrivateTest     3589\n",
              "PublicTest      3589\n",
              "Name: Usage, dtype: int64"
            ]
          },
          "metadata": {
            "tags": []
          },
          "execution_count": 26
        }
      ]
    },
    {
      "cell_type": "markdown",
      "metadata": {
        "id": "u_Xc1kb96J_I",
        "colab_type": "text"
      },
      "source": [
        " **Intuition**\n",
        "\n",
        "* % matplotlib inline ==> magic cmd to setup IPython to display and store figures in notebooks\n",
        "* dataframe ==>pd.read_csv() , .head(), .tail(), .shape\n",
        "* count ==>  sns.countplot(x=,df) -> for graphs  ; df[col].value_counts() -> to display count values\n"
      ]
    },
    {
      "cell_type": "markdown",
      "metadata": {
        "id": "hLpNo_Wi78C3",
        "colab_type": "text"
      },
      "source": [
        "# PreProcessing"
      ]
    },
    {
      "cell_type": "code",
      "metadata": {
        "id": "OshjJPMx95JF",
        "colab_type": "code",
        "colab": {}
      },
      "source": [
        "import cv2\n",
        "image_size=(48,48)"
      ],
      "execution_count": 20,
      "outputs": []
    },
    {
      "cell_type": "code",
      "metadata": {
        "id": "HRs4m6UvM7AO",
        "colab_type": "code",
        "colab": {}
      },
      "source": [
        "pixels = df['pixels'].tolist() # Converting the relevant column element into a list for each row\n",
        "width, height = 48, 48\n",
        "faces = []\n",
        "\n",
        "for pixel_sequence in pixels:\n",
        "  face = [int(pixel) for pixel in pixel_sequence.split(' ')] # Splitting the string by space character as a list\n",
        "  face = np.asarray(face).reshape(width, height) #converting the list to numpy array in size of 48*48\n",
        "  face = cv2.resize(face.astype('uint8'),image_size) #resize the image to have 48 cols (width) and 48 rows (height)\n",
        "  faces.append(face.astype('float32')) #makes the list of each images of 48*48 and their pixels in numpyarray form\n",
        "  \n",
        "faces = np.asarray(faces) #converting the list into numpy array\n",
        "faces = np.expand_dims(faces, -1) #Expand the shape of an array -1=last dimension => means color space\n",
        "emotions = pd.get_dummies(df['emotion']).to_numpy() #doing the one hot encoding type on emotions"
      ],
      "execution_count": null,
      "outputs": []
    },
    {
      "cell_type": "code",
      "metadata": {
        "id": "VPsO_9sn77EB",
        "colab_type": "code",
        "colab": {
          "base_uri": "https://localhost:8080/",
          "height": 850
        },
        "outputId": "e8f48f97-29d1-47dd-ed72-f41a24d1efb4"
      },
      "source": [
        "print(faces[0]) #Pixels after preprocessing"
      ],
      "execution_count": null,
      "outputs": [
        {
          "output_type": "stream",
          "text": [
            "[[[ 70.]\n",
            "  [ 80.]\n",
            "  [ 82.]\n",
            "  ...\n",
            "  [ 52.]\n",
            "  [ 43.]\n",
            "  [ 41.]]\n",
            "\n",
            " [[ 65.]\n",
            "  [ 61.]\n",
            "  [ 58.]\n",
            "  ...\n",
            "  [ 56.]\n",
            "  [ 52.]\n",
            "  [ 44.]]\n",
            "\n",
            " [[ 50.]\n",
            "  [ 43.]\n",
            "  [ 54.]\n",
            "  ...\n",
            "  [ 49.]\n",
            "  [ 56.]\n",
            "  [ 47.]]\n",
            "\n",
            " ...\n",
            "\n",
            " [[ 91.]\n",
            "  [ 65.]\n",
            "  [ 42.]\n",
            "  ...\n",
            "  [ 72.]\n",
            "  [ 56.]\n",
            "  [ 43.]]\n",
            "\n",
            " [[ 77.]\n",
            "  [ 82.]\n",
            "  [ 79.]\n",
            "  ...\n",
            "  [105.]\n",
            "  [ 70.]\n",
            "  [ 46.]]\n",
            "\n",
            " [[ 77.]\n",
            "  [ 72.]\n",
            "  [ 84.]\n",
            "  ...\n",
            "  [106.]\n",
            "  [109.]\n",
            "  [ 82.]]]\n"
          ],
          "name": "stdout"
        }
      ]
    },
    {
      "cell_type": "code",
      "metadata": {
        "id": "s2JENcOV_nXJ",
        "colab_type": "code",
        "colab": {
          "base_uri": "https://localhost:8080/",
          "height": 68
        },
        "outputId": "9d946358-ded7-4489-c937-28b8208204de"
      },
      "source": [
        "print(faces.shape)\n",
        "print(faces[0].ndim)\n",
        "print(type(faces))"
      ],
      "execution_count": null,
      "outputs": [
        {
          "output_type": "stream",
          "text": [
            "(35887, 48, 48, 1)\n",
            "3\n",
            "<class 'numpy.ndarray'>\n"
          ],
          "name": "stdout"
        }
      ]
    },
    {
      "cell_type": "code",
      "metadata": {
        "id": "yeQMsBoR-Y4d",
        "colab_type": "code",
        "colab": {
          "base_uri": "https://localhost:8080/",
          "height": 34
        },
        "outputId": "d68aeb8b-f592-48aa-dd0d-8018b88a1572"
      },
      "source": [
        "print(emotions[0]) #Emotion after preprocessing"
      ],
      "execution_count": null,
      "outputs": [
        {
          "output_type": "stream",
          "text": [
            "[1 0 0 0 0 0 0]\n"
          ],
          "name": "stdout"
        }
      ]
    },
    {
      "cell_type": "code",
      "metadata": {
        "id": "WOO-ZRSf-hgt",
        "colab_type": "code",
        "colab": {
          "base_uri": "https://localhost:8080/",
          "height": 68
        },
        "outputId": "25f89382-4486-4098-a635-f66ae1dfd196"
      },
      "source": [
        "print(emotions.shape)\n",
        "print(emotions.ndim)\n",
        "print(type(emotions))"
      ],
      "execution_count": null,
      "outputs": [
        {
          "output_type": "stream",
          "text": [
            "(35887, 7)\n",
            "2\n",
            "<class 'numpy.ndarray'>\n"
          ],
          "name": "stdout"
        }
      ]
    },
    {
      "cell_type": "markdown",
      "metadata": {
        "id": "kj9OqVepeZ2E",
        "colab_type": "text"
      },
      "source": [
        "**Intuition**\n",
        "* Pandas series(or col of dataframe) to list => tolist() =>gives list of string of values->each string is a image\n",
        "* split each string(image) in list and cvt them into list of list of integers\n",
        "* convert list into numpy array =>np.asarray(list)\n",
        "* numpy array has reshape(width,height) \n",
        "* cv2 has resize(nparray, (size)) -->cvt image into uint8(unsigned 8 bit integer) -> has range [0,255]\n",
        "  1. uint16 => [0,65535]\n",
        "  2. uint32 => 32 bit or 4 bytes => [0, 2^32]\n",
        "  3. float => [-1,1] or [0,1]\n",
        "  4. int8 => [-128, 127]\n",
        "  5. int =>  [-2^31 , 2^31 -1] \n",
        "* images => ntg but numpy array\n",
        "* openCV has 3 dimensions => width,height, color => color space = BGR ; dtype => by default uint8\n",
        "* reshape returns a copy [ doesn't change values] whereas resize changes the values[not return a copy]\n",
        "* np.expand_dims => inserts new axis => ntg but boxes(just think for convenience) => to increase dimensions => to expand shape\n",
        "  1. axis= 0 -> box to all values ; axis =1 -> boxes to each individual values\n",
        "  2. example , (2,1,2) =>[ [[[],[]]],[[[],[]]] ] => list has 2 boxes - each box has 1 box - inside that each 1 box has 2 boxes --> in general box is a list or value\n",
        "* pd.get_dummies => convert pd series into dummy coded dataframes or indicator variables. => categorical var into indicators vars. => s.no(row names) * values(cols names) - 0,1 values.\n",
        "* numpy.asmatrix(data,dtype) => interpret input as a matrix => doesn't return a copy of matrix if given input is a matrix.\n",
        "  1. In list[0][1] =>In numpy[0,1] -> means In first box 2nd ele.\n",
        "*pd.df.to_numpy() => converts pandas dataframe into numpy array -> ndarray - usally 2 dim ->\n",
        "  1. dataframe -> some kind of tabular format with some indexes. ; numpy array -> some kind of lists of lists\n",
        "  2."
      ]
    },
    {
      "cell_type": "markdown",
      "metadata": {
        "id": "GL78P7u0I1Hp",
        "colab_type": "text"
      },
      "source": [
        "# Splitting the dataset"
      ]
    },
    {
      "cell_type": "markdown",
      "metadata": {
        "id": "28T5zBUCUn4j",
        "colab_type": "text"
      },
      "source": [
        "## Scaling the pixels between -1 and 1"
      ]
    },
    {
      "cell_type": "code",
      "metadata": {
        "id": "E2MJ1pnPJCyP",
        "colab_type": "code",
        "colab": {}
      },
      "source": [
        "x = faces.astype('float32')\n",
        "x = x / 255.0 #Dividing the pixels by 255 for normalization  => range(0,1)\n",
        "\n",
        "# Scaling the pixels value in range(-1,1)\n",
        "x = x - 0.5\n",
        "x = x * 2.0"
      ],
      "execution_count": null,
      "outputs": []
    },
    {
      "cell_type": "code",
      "metadata": {
        "id": "foWH2FX3JErZ",
        "colab_type": "code",
        "colab": {
          "base_uri": "https://localhost:8080/",
          "height": 850
        },
        "outputId": "6beda3b8-2474-47b7-e1ab-e9ffbe109903"
      },
      "source": [
        "print(x[0])"
      ],
      "execution_count": null,
      "outputs": [
        {
          "output_type": "stream",
          "text": [
            "[[[-0.45098037]\n",
            "  [-0.372549  ]\n",
            "  [-0.35686272]\n",
            "  ...\n",
            "  [-0.5921569 ]\n",
            "  [-0.6627451 ]\n",
            "  [-0.6784314 ]]\n",
            "\n",
            " [[-0.49019605]\n",
            "  [-0.52156866]\n",
            "  [-0.54509807]\n",
            "  ...\n",
            "  [-0.56078434]\n",
            "  [-0.5921569 ]\n",
            "  [-0.654902  ]]\n",
            "\n",
            " [[-0.60784316]\n",
            "  [-0.6627451 ]\n",
            "  [-0.5764706 ]\n",
            "  ...\n",
            "  [-0.6156863 ]\n",
            "  [-0.56078434]\n",
            "  [-0.6313726 ]]\n",
            "\n",
            " ...\n",
            "\n",
            " [[-0.2862745 ]\n",
            "  [-0.49019605]\n",
            "  [-0.67058825]\n",
            "  ...\n",
            "  [-0.4352941 ]\n",
            "  [-0.56078434]\n",
            "  [-0.6627451 ]]\n",
            "\n",
            " [[-0.3960784 ]\n",
            "  [-0.35686272]\n",
            "  [-0.38039213]\n",
            "  ...\n",
            "  [-0.17647058]\n",
            "  [-0.45098037]\n",
            "  [-0.6392157 ]]\n",
            "\n",
            " [[-0.3960784 ]\n",
            "  [-0.4352941 ]\n",
            "  [-0.34117645]\n",
            "  ...\n",
            "  [-0.16862744]\n",
            "  [-0.14509803]\n",
            "  [-0.35686272]]]\n"
          ],
          "name": "stdout"
        }
      ]
    },
    {
      "cell_type": "code",
      "metadata": {
        "id": "b_QhWHs_JGMx",
        "colab_type": "code",
        "colab": {
          "base_uri": "https://localhost:8080/",
          "height": 34
        },
        "outputId": "7af78ebf-4fbb-432d-ddeb-f784d0eea509"
      },
      "source": [
        "type(x)"
      ],
      "execution_count": null,
      "outputs": [
        {
          "output_type": "execute_result",
          "data": {
            "text/plain": [
              "numpy.ndarray"
            ]
          },
          "metadata": {
            "tags": []
          },
          "execution_count": 35
        }
      ]
    },
    {
      "cell_type": "code",
      "metadata": {
        "id": "8F5u4B83NKFy",
        "colab_type": "code",
        "colab": {
          "base_uri": "https://localhost:8080/",
          "height": 269
        },
        "outputId": "8804c429-f539-486f-e01d-0afa62f7a319"
      },
      "source": [
        "plt.plot(x[0,0])\n",
        "plt.show()"
      ],
      "execution_count": null,
      "outputs": [
        {
          "output_type": "display_data",
          "data": {
            "image/png": "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\n",
            "text/plain": [
              "<Figure size 432x288 with 1 Axes>"
            ]
          },
          "metadata": {
            "tags": [],
            "needs_background": "light"
          }
        }
      ]
    },
    {
      "cell_type": "code",
      "metadata": {
        "id": "Euq0pES3Ufv_",
        "colab_type": "code",
        "colab": {
          "base_uri": "https://localhost:8080/",
          "height": 34
        },
        "outputId": "3c2a1ccc-051e-4ce0-fb47-2c4fbad5543f"
      },
      "source": [
        "print(x.min(),x.max()) # we can observe that pixels are scale"
      ],
      "execution_count": null,
      "outputs": [
        {
          "output_type": "stream",
          "text": [
            "-1.0 1.0\n"
          ],
          "name": "stdout"
        }
      ]
    },
    {
      "cell_type": "markdown",
      "metadata": {
        "id": "AZARK_oB_IuF",
        "colab_type": "text"
      },
      "source": [
        "## Splitting the dataset into train & validation set"
      ]
    },
    {
      "cell_type": "code",
      "metadata": {
        "id": "0oIyb2zMU2sj",
        "colab_type": "code",
        "colab": {}
      },
      "source": [
        "num_samples, num_classes = emotions.shape\n",
        "\n",
        "num_samples = len(x)\n",
        "num_train_samples = int((1 - 0.2)*num_samples)\n",
        "\n",
        "# Traning data\n",
        "train_x = x[:num_train_samples]\n",
        "train_y = emotions[:num_train_samples]\n",
        "\n",
        "# Validation data\n",
        "val_x = x[num_train_samples:]\n",
        "val_y = emotions[num_train_samples:]\n",
        "\n",
        "train_data = (train_x, train_y)\n",
        "val_data = (val_x, val_y)"
      ],
      "execution_count": null,
      "outputs": []
    },
    {
      "cell_type": "code",
      "metadata": {
        "id": "oBtesONJWvDY",
        "colab_type": "code",
        "colab": {
          "base_uri": "https://localhost:8080/",
          "height": 85
        },
        "outputId": "59b1c001-692f-4e86-f641-a01be111402f"
      },
      "source": [
        "print('Training Pixels',train_x.shape)  # ==> 4 dims -  no of images , width , height , color\n",
        "print('Training labels',train_y.shape)\n",
        "\n",
        "print('Validation Pixels',val_x.shape)\n",
        "print('Validation labels',val_y.shape)"
      ],
      "execution_count": null,
      "outputs": [
        {
          "output_type": "stream",
          "text": [
            "Training Pixels (28709, 48, 48, 1)\n",
            "Training labels (28709, 7)\n",
            "Validation Pixels (7178, 48, 48, 1)\n",
            "Validation labels (7178, 7)\n"
          ],
          "name": "stdout"
        }
      ]
    },
    {
      "cell_type": "markdown",
      "metadata": {
        "id": "b3u-V2UMmKTI",
        "colab_type": "text"
      },
      "source": [
        "* shape => returns no of samples , classes ; len => no of samples\n",
        "* training -> x = x[: 0.8*no_of_samples] , y = y[: 0.8*no_of_samples]     ---> take the benefit of slicing\n",
        "* validation -> x = x[ 0.8*no_of_samples  : ] , y = y[ 0.8*no_of_samples  : ]\n",
        "* data = (x,y)\n",
        "\n",
        "* take benefit of type(), print() --> for checking"
      ]
    },
    {
      "cell_type": "markdown",
      "metadata": {
        "id": "IyZvjJKTAMpx",
        "colab_type": "text"
      },
      "source": [
        "# Defining Model"
      ]
    },
    {
      "cell_type": "code",
      "metadata": {
        "id": "TKpD2mbkD3V0",
        "colab_type": "code",
        "colab": {}
      },
      "source": [
        "#load the libaray to built the model\n",
        "from keras.layers import Activation, Convolution2D, Dropout, Conv2D\n",
        "from keras.layers import AveragePooling2D, BatchNormalization\n",
        "from keras.layers import GlobalAveragePooling2D\n",
        "from keras.models import Sequential\n",
        "from keras.layers import Flatten\n",
        "from keras.models import Model\n",
        "from keras.layers import Input\n",
        "from keras.layers import MaxPooling2D\n",
        "from keras.layers import SeparableConv2D\n",
        "from keras import layers\n",
        "from keras.regularizers import l2"
      ],
      "execution_count": 21,
      "outputs": []
    },
    {
      "cell_type": "markdown",
      "metadata": {
        "id": "4f_8pLj1p85S",
        "colab_type": "text"
      },
      "source": [
        "* keras is a deep learning library => powerful easy to use library => high level API for tensorflow, Theano => wrapper\n",
        "* minimalistic , modular approach\n",
        "* obviously,oversimplification ->abstract representations of neural networks\n",
        "* import \n",
        "  1. Sequential => linear stack of NN layers -> feed forward cnn\n",
        "  2. layers -> for almost any nn\n",
        "  3. CNN layers -> convolution2D , maxpooling2D\n"
      ]
    },
    {
      "cell_type": "code",
      "metadata": {
        "id": "Jg7wHibYv2wF",
        "colab_type": "code",
        "colab": {
          "base_uri": "https://localhost:8080/",
          "height": 35
        },
        "outputId": "628f6660-4454-4595-92c6-8dc51129aebc"
      },
      "source": [
        "\"\"\"\n",
        "* keras.__version__\n",
        "* pip install --upgrade keras\n",
        "\"\"\""
      ],
      "execution_count": null,
      "outputs": [
        {
          "output_type": "execute_result",
          "data": {
            "application/vnd.google.colaboratory.intrinsic": {
              "type": "string"
            },
            "text/plain": [
              "'\\n* keras.__version__\\n* pip install --upgrade keras\\n'"
            ]
          },
          "metadata": {
            "tags": []
          },
          "execution_count": 41
        }
      ]
    },
    {
      "cell_type": "markdown",
      "metadata": {
        "id": "dyPOvVbXtSUi",
        "colab_type": "text"
      },
      "source": [
        "* Deep learning led to advances in computer vision\n",
        "* Neural networks learn more complex features from input image.\n",
        "  1. input layer => feeding input\n",
        "  2. first hidden layer =>  only learn local edge patterns\n",
        "  3. each subsequent layer => filters => learns more complex representations\n",
        "  4. classify\n",
        "\n",
        "* CNN => reduce no of parameters that need to be tuned => handle high dimensionality"
      ]
    },
    {
      "cell_type": "markdown",
      "metadata": {
        "id": "lni4RvfCDtgD",
        "colab_type": "text"
      },
      "source": [
        "# 1) Simpler CNN"
      ]
    },
    {
      "cell_type": "code",
      "metadata": {
        "id": "-h71E2cTFWOi",
        "colab_type": "code",
        "colab": {}
      },
      "source": [
        "input_shape=(48, 48, 1)\n",
        "num_classes = 7"
      ],
      "execution_count": null,
      "outputs": []
    },
    {
      "cell_type": "code",
      "metadata": {
        "id": "IgnHh0urDr7U",
        "colab_type": "code",
        "colab": {}
      },
      "source": [
        "\"\"\" Building up Model Architecture \"\"\"\n",
        "\n",
        "model = Sequential()\n",
        "model.add(Convolution2D(filters=16, kernel_size=(7, 7), padding='same',\n",
        "                            name='image_array', input_shape=input_shape))\n",
        "model.add(BatchNormalization())\n",
        "model.add(Convolution2D(filters=16, kernel_size=(7, 7), padding='same'))\n",
        "model.add(BatchNormalization())\n",
        "model.add(Activation('relu'))\n",
        "model.add(AveragePooling2D(pool_size=(2, 2), padding='same'))\n",
        "model.add(Dropout(.5))\n",
        "\n",
        "model.add(Convolution2D(filters=32, kernel_size=(5, 5), padding='same'))\n",
        "model.add(BatchNormalization())\n",
        "model.add(Convolution2D(filters=32, kernel_size=(5, 5), padding='same'))\n",
        "model.add(BatchNormalization())\n",
        "model.add(Activation('relu'))\n",
        "model.add(AveragePooling2D(pool_size=(2, 2), padding='same'))\n",
        "model.add(Dropout(.5))\n",
        "\n",
        "model.add(Convolution2D(filters=64, kernel_size=(3, 3), padding='same'))\n",
        "model.add(BatchNormalization())\n",
        "model.add(Convolution2D(filters=64, kernel_size=(3, 3), padding='same'))\n",
        "model.add(BatchNormalization())\n",
        "model.add(Activation('relu'))\n",
        "model.add(AveragePooling2D(pool_size=(2, 2), padding='same'))\n",
        "model.add(Dropout(.5))\n",
        "\n",
        "model.add(Convolution2D(filters=128, kernel_size=(3, 3), padding='same'))\n",
        "model.add(BatchNormalization())\n",
        "model.add(Convolution2D(filters=128, kernel_size=(3, 3), padding='same'))\n",
        "model.add(BatchNormalization())\n",
        "model.add(Activation('relu'))\n",
        "model.add(AveragePooling2D(pool_size=(2, 2), padding='same'))\n",
        "model.add(Dropout(.5))\n",
        "\n",
        "model.add(Convolution2D(filters=256, kernel_size=(3, 3), padding='same'))\n",
        "\n",
        "\n",
        "\n",
        "model.add(BatchNormalization())\n",
        "model.add(Convolution2D(filters=num_classes, kernel_size=(3, 3), padding='same'))\n",
        "model.add(GlobalAveragePooling2D())\n",
        "model.add(Activation('softmax',name='predictions'))\n",
        "\n"
      ],
      "execution_count": null,
      "outputs": []
    },
    {
      "cell_type": "markdown",
      "metadata": {
        "id": "mOB8szvd_tfd",
        "colab_type": "text"
      },
      "source": [
        " # **Intuition**\n",
        "\n",
        "\n",
        "---\n",
        "\n",
        "\n",
        "\n",
        "* **Convolution** => matrix multiplication with filter -> feature detector\n",
        "  * Convolution2d => for filtering windows of 2 dimensional input -> if 1st layer = input_shape\n",
        "* filters = windows ; 2 dim filter => sliding window\n",
        "* sliding window slides over each channel and summarising the features.\n",
        "*  **batch normalisation** => used to stabilise perhaps accelerate learning process => standardise layer inputs => by applying transformation that maintains mean activation close to 0 and activation standard deviation(sq root of variance ---> how far) close to 1.\n",
        "  1. normalisation => process tend to follow bell shape curve known as normal distribution\n",
        "  2. backpropagation => updated layer by layer backward from output to the input using estimate of error that assumes weights in the layer prior to the current layer are fixed.\n",
        "  3. gradient tells how to update each parameter under the assumption that other layers do not change. \n",
        "  4. all layers changes during an update --> this update procedure leads to forever chasing a moving target.\n",
        "  5. batch normalisation => technique to coordinate the update  of multiple layers in the model => reparametrization of network\n",
        "  6. its about standardize the mean and variance of each unit in normal dist\n",
        "  7. its all about standardixeing inputs to layers for each mini batch\n",
        "\n",
        "* **Activation(ReLu)**: activation layer( non linear layer) \n",
        "  1. convention is to apply after conv layer\n",
        "  2. to introduce non linearity to a system that has computed linear operations in conv\n",
        "  3. Rectified linear unit => widely used  than non linear functions(sigmoid, tanh) for its fast training with out accuracy. => max(0,x)\n",
        "  4. Relu also alleviates vanishing gradient (lower layers of network trains very slowly because the gradient decreases slowly throught layers.\n",
        "  5. without these non linear functions(activation functions) , the network would be a large linear classifier that could simplified by multiplying weight matrices(accounting for bais) . It wouldn't do anything interesting such as image classification etc..\n",
        "* **Pooling** => max, avg ,globalmax, globalavg\n",
        "  1. conv > activation > pooling\n",
        "  2.to reduce dimensions of feature map => reduces parameters to learn and amt of computations\n",
        "  3. it further summarizes the feature map  instead of precisely positioned features generated by conv layer. This makes model more robust to variations in the position of features in image\n",
        "  4.when network wants to detect higher level features from low level building blocks (detecting corners from edges) . we dont need a rigid about exact position => we need translational invariance at the feature level . so insert pooling\n",
        "  5. overcomes the problem of sensitive to the location of the features.\n",
        "  6. local translation invariance\n",
        "\n",
        "*  **Dropout** => regularization technique\n",
        "  1.neurons are randomly dropped while training\n",
        "  2. this effect makes network less sensitive to thespecific weights of neurons \n",
        "  3. better generalization - less overfit\n",
        "\n",
        "\n",
        "---\n",
        "**Functions:**\n",
        "* convolution2d => no of filters or kernels , kernal size , padding => same(zero padding) , valid (no padding) for input ; stride = step or movement of kernel. ; if 1st layer -> input_shape\n",
        "* BatchNormalisation => no args \n",
        "* Activation => func name\n",
        "* AveragePooling2D => 2D means 2 dimensional feature map ; kernel size , padding\n",
        "* Dropout => % of drop of neurons \n",
        "* AT output , convolution2d --> filters = no of classes ; activation --> softmax\n",
        "\n"
      ]
    },
    {
      "cell_type": "code",
      "metadata": {
        "id": "l1DSW_zoN1hg",
        "colab_type": "code",
        "colab": {
          "base_uri": "https://localhost:8080/",
          "height": 1000
        },
        "outputId": "5bf2c2fd-78fe-44c1-8822-66a5bb757216"
      },
      "source": [
        "model.summary()"
      ],
      "execution_count": null,
      "outputs": [
        {
          "output_type": "stream",
          "text": [
            "Model: \"sequential_1\"\n",
            "_________________________________________________________________\n",
            "Layer (type)                 Output Shape              Param #   \n",
            "=================================================================\n",
            "image_array (Conv2D)         (None, 48, 48, 16)        800       \n",
            "_________________________________________________________________\n",
            "batch_normalization_1 (Batch (None, 48, 48, 16)        64        \n",
            "_________________________________________________________________\n",
            "conv2d_1 (Conv2D)            (None, 48, 48, 16)        12560     \n",
            "_________________________________________________________________\n",
            "batch_normalization_2 (Batch (None, 48, 48, 16)        64        \n",
            "_________________________________________________________________\n",
            "activation_1 (Activation)    (None, 48, 48, 16)        0         \n",
            "_________________________________________________________________\n",
            "average_pooling2d_1 (Average (None, 24, 24, 16)        0         \n",
            "_________________________________________________________________\n",
            "dropout_1 (Dropout)          (None, 24, 24, 16)        0         \n",
            "_________________________________________________________________\n",
            "conv2d_2 (Conv2D)            (None, 24, 24, 32)        12832     \n",
            "_________________________________________________________________\n",
            "batch_normalization_3 (Batch (None, 24, 24, 32)        128       \n",
            "_________________________________________________________________\n",
            "conv2d_3 (Conv2D)            (None, 24, 24, 32)        25632     \n",
            "_________________________________________________________________\n",
            "batch_normalization_4 (Batch (None, 24, 24, 32)        128       \n",
            "_________________________________________________________________\n",
            "activation_2 (Activation)    (None, 24, 24, 32)        0         \n",
            "_________________________________________________________________\n",
            "average_pooling2d_2 (Average (None, 12, 12, 32)        0         \n",
            "_________________________________________________________________\n",
            "dropout_2 (Dropout)          (None, 12, 12, 32)        0         \n",
            "_________________________________________________________________\n",
            "conv2d_4 (Conv2D)            (None, 12, 12, 64)        18496     \n",
            "_________________________________________________________________\n",
            "batch_normalization_5 (Batch (None, 12, 12, 64)        256       \n",
            "_________________________________________________________________\n",
            "conv2d_5 (Conv2D)            (None, 12, 12, 64)        36928     \n",
            "_________________________________________________________________\n",
            "batch_normalization_6 (Batch (None, 12, 12, 64)        256       \n",
            "_________________________________________________________________\n",
            "activation_3 (Activation)    (None, 12, 12, 64)        0         \n",
            "_________________________________________________________________\n",
            "average_pooling2d_3 (Average (None, 6, 6, 64)          0         \n",
            "_________________________________________________________________\n",
            "dropout_3 (Dropout)          (None, 6, 6, 64)          0         \n",
            "_________________________________________________________________\n",
            "conv2d_6 (Conv2D)            (None, 6, 6, 128)         73856     \n",
            "_________________________________________________________________\n",
            "batch_normalization_7 (Batch (None, 6, 6, 128)         512       \n",
            "_________________________________________________________________\n",
            "conv2d_7 (Conv2D)            (None, 6, 6, 128)         147584    \n",
            "_________________________________________________________________\n",
            "batch_normalization_8 (Batch (None, 6, 6, 128)         512       \n",
            "_________________________________________________________________\n",
            "activation_4 (Activation)    (None, 6, 6, 128)         0         \n",
            "_________________________________________________________________\n",
            "average_pooling2d_4 (Average (None, 3, 3, 128)         0         \n",
            "_________________________________________________________________\n",
            "dropout_4 (Dropout)          (None, 3, 3, 128)         0         \n",
            "_________________________________________________________________\n",
            "conv2d_8 (Conv2D)            (None, 3, 3, 256)         295168    \n",
            "_________________________________________________________________\n",
            "batch_normalization_9 (Batch (None, 3, 3, 256)         1024      \n",
            "_________________________________________________________________\n",
            "conv2d_9 (Conv2D)            (None, 3, 3, 7)           16135     \n",
            "_________________________________________________________________\n",
            "global_average_pooling2d_1 ( (None, 7)                 0         \n",
            "_________________________________________________________________\n",
            "predictions (Activation)     (None, 7)                 0         \n",
            "=================================================================\n",
            "Total params: 642,935\n",
            "Trainable params: 641,463\n",
            "Non-trainable params: 1,472\n",
            "_________________________________________________________________\n"
          ],
          "name": "stdout"
        }
      ]
    },
    {
      "cell_type": "code",
      "metadata": {
        "id": "qS2a73LMMXsF",
        "colab_type": "code",
        "colab": {}
      },
      "source": [
        "# parameters\n",
        "batch_size = 32 #Number of samples per gradient update\n",
        "num_epochs = 200 # Number of epochs to train the model.\n",
        "#input_shape = (64, 64, 1)\n",
        "verbose = 1 #per epohs  progress bar\n",
        "num_classes = 7 \n",
        "patience = 50\n",
        "base_path = 'drive/Colab Notebooks/emotion/simplecnn/'"
      ],
      "execution_count": null,
      "outputs": []
    },
    {
      "cell_type": "code",
      "metadata": {
        "id": "oZGzV6XKVkmr",
        "colab_type": "code",
        "colab": {}
      },
      "source": [
        "from keras.callbacks import CSVLogger, ModelCheckpoint, EarlyStopping\n",
        "from keras.callbacks import ReduceLROnPlateau\n",
        "from keras.preprocessing.image import ImageDataGenerator"
      ],
      "execution_count": 8,
      "outputs": []
    },
    {
      "cell_type": "markdown",
      "metadata": {
        "id": "fIB613fzVrlK",
        "colab_type": "text"
      },
      "source": [
        "## Data Augmenttion"
      ]
    },
    {
      "cell_type": "code",
      "metadata": {
        "id": "G0vSiW0aVWoi",
        "colab_type": "code",
        "colab": {}
      },
      "source": [
        "\"\"\" Data Augmentation => taking the batch and apply some series of random transformations (random rotation, resizing, shearing) \n",
        "\n",
        "      ===> to increase generalizability of model  \"\"\"\n",
        "\n",
        "\n",
        "# data generator Generate batches of tensor image data with real-time data augmentation\n",
        "data_generator = ImageDataGenerator(\n",
        "                        featurewise_center=False,\n",
        "                        featurewise_std_normalization=False,\n",
        "                        rotation_range=10,\n",
        "                        width_shift_range=0.1,\n",
        "                        height_shift_range=0.1,\n",
        "                        zoom_range=.1,\n",
        "                        horizontal_flip=True)"
      ],
      "execution_count": null,
      "outputs": []
    },
    {
      "cell_type": "markdown",
      "metadata": {
        "id": "LIW7y7yWkwJ3",
        "colab_type": "text"
      },
      "source": [
        "**ImageDataGenerator**\n",
        "* horizontal and vertical shift => moving all pixels of image in one direction \n",
        "  1. width_shift_range ( horizonatal shift)\n",
        "  2. height_shift_range (vertical shift)\n",
        "  3. floating num [0- 1] --> % of shift\n",
        "\n",
        "* horizontal n vertical flips augmentation ==>reversing rows or cols of pixels  --> True or False\n",
        "* Random rotation  --> 0 - 360 degrees --> rotation_range = 90 ==> means random rotation to image blw 0 and 90 degrees\n",
        "* random  brightness --> randomly darkens or brightens images ==> brightness_range =[0.2,1.0] --> means darkens or brightens if pixel is blw 0.2 and 1\n",
        "* random zoom\n",
        "  1. either adds pixel or subtract pixels in image . [1-value, 1+value] \n",
        "  2. for example , zoom_range = .3 --> range [0.7, 1.3] or blw 70%(zoom in) and 130% (zoomout)\n",
        "\n",
        "---\n",
        "when an object is created using following args. an iterator can be created for an image dataset. \n",
        "* it iterates through all images in memory --> obj.flow(X,y)\n",
        "* to iterates images through subdirectories --> obj. flow_from_directory(X,y,..)\n",
        "* to train ==> fit_generator() "
      ]
    },
    {
      "cell_type": "code",
      "metadata": {
        "id": "oeF9vG6oWMB6",
        "colab_type": "code",
        "colab": {
          "base_uri": "https://localhost:8080/",
          "height": 1000
        },
        "outputId": "b68c3b98-06c1-46d3-951c-af8531bd75c1"
      },
      "source": [
        "# model parameters/compilation\n",
        "\n",
        "\"\"\" CONFIGURATION ==>.compile(optimizer, loss , metrics) \"\"\"\n",
        "\n",
        "\n",
        "\n",
        "model.compile(optimizer='adam', loss='categorical_crossentropy',\n",
        "              metrics=['accuracy'])\n",
        "model.summary()\n"
      ],
      "execution_count": null,
      "outputs": [
        {
          "output_type": "stream",
          "text": [
            "Model: \"sequential_1\"\n",
            "_________________________________________________________________\n",
            "Layer (type)                 Output Shape              Param #   \n",
            "=================================================================\n",
            "image_array (Conv2D)         (None, 48, 48, 16)        800       \n",
            "_________________________________________________________________\n",
            "batch_normalization_1 (Batch (None, 48, 48, 16)        64        \n",
            "_________________________________________________________________\n",
            "conv2d_1 (Conv2D)            (None, 48, 48, 16)        12560     \n",
            "_________________________________________________________________\n",
            "batch_normalization_2 (Batch (None, 48, 48, 16)        64        \n",
            "_________________________________________________________________\n",
            "activation_1 (Activation)    (None, 48, 48, 16)        0         \n",
            "_________________________________________________________________\n",
            "average_pooling2d_1 (Average (None, 24, 24, 16)        0         \n",
            "_________________________________________________________________\n",
            "dropout_1 (Dropout)          (None, 24, 24, 16)        0         \n",
            "_________________________________________________________________\n",
            "conv2d_2 (Conv2D)            (None, 24, 24, 32)        12832     \n",
            "_________________________________________________________________\n",
            "batch_normalization_3 (Batch (None, 24, 24, 32)        128       \n",
            "_________________________________________________________________\n",
            "conv2d_3 (Conv2D)            (None, 24, 24, 32)        25632     \n",
            "_________________________________________________________________\n",
            "batch_normalization_4 (Batch (None, 24, 24, 32)        128       \n",
            "_________________________________________________________________\n",
            "activation_2 (Activation)    (None, 24, 24, 32)        0         \n",
            "_________________________________________________________________\n",
            "average_pooling2d_2 (Average (None, 12, 12, 32)        0         \n",
            "_________________________________________________________________\n",
            "dropout_2 (Dropout)          (None, 12, 12, 32)        0         \n",
            "_________________________________________________________________\n",
            "conv2d_4 (Conv2D)            (None, 12, 12, 64)        18496     \n",
            "_________________________________________________________________\n",
            "batch_normalization_5 (Batch (None, 12, 12, 64)        256       \n",
            "_________________________________________________________________\n",
            "conv2d_5 (Conv2D)            (None, 12, 12, 64)        36928     \n",
            "_________________________________________________________________\n",
            "batch_normalization_6 (Batch (None, 12, 12, 64)        256       \n",
            "_________________________________________________________________\n",
            "activation_3 (Activation)    (None, 12, 12, 64)        0         \n",
            "_________________________________________________________________\n",
            "average_pooling2d_3 (Average (None, 6, 6, 64)          0         \n",
            "_________________________________________________________________\n",
            "dropout_3 (Dropout)          (None, 6, 6, 64)          0         \n",
            "_________________________________________________________________\n",
            "conv2d_6 (Conv2D)            (None, 6, 6, 128)         73856     \n",
            "_________________________________________________________________\n",
            "batch_normalization_7 (Batch (None, 6, 6, 128)         512       \n",
            "_________________________________________________________________\n",
            "conv2d_7 (Conv2D)            (None, 6, 6, 128)         147584    \n",
            "_________________________________________________________________\n",
            "batch_normalization_8 (Batch (None, 6, 6, 128)         512       \n",
            "_________________________________________________________________\n",
            "activation_4 (Activation)    (None, 6, 6, 128)         0         \n",
            "_________________________________________________________________\n",
            "average_pooling2d_4 (Average (None, 3, 3, 128)         0         \n",
            "_________________________________________________________________\n",
            "dropout_4 (Dropout)          (None, 3, 3, 128)         0         \n",
            "_________________________________________________________________\n",
            "conv2d_8 (Conv2D)            (None, 3, 3, 256)         295168    \n",
            "_________________________________________________________________\n",
            "batch_normalization_9 (Batch (None, 3, 3, 256)         1024      \n",
            "_________________________________________________________________\n",
            "conv2d_9 (Conv2D)            (None, 3, 3, 7)           16135     \n",
            "_________________________________________________________________\n",
            "global_average_pooling2d_1 ( (None, 7)                 0         \n",
            "_________________________________________________________________\n",
            "predictions (Activation)     (None, 7)                 0         \n",
            "=================================================================\n",
            "Total params: 642,935\n",
            "Trainable params: 641,463\n",
            "Non-trainable params: 1,472\n",
            "_________________________________________________________________\n"
          ],
          "name": "stdout"
        }
      ]
    },
    {
      "cell_type": "code",
      "metadata": {
        "id": "EZP8riBlO4mS",
        "colab_type": "code",
        "colab": {
          "base_uri": "https://localhost:8080/",
          "height": 1000
        },
        "outputId": "8ab48817-fcb3-4507-df52-97b59527b165"
      },
      "source": [
        "datasets = ['fer2013']\n",
        "num_epochs = 30\n",
        "base_path=\"/content\"\n",
        "for dataset_name in datasets:\n",
        "    print('Training dataset:', dataset_name)\n",
        "\n",
        "    #callbacks\n",
        "    log_file_path = dataset_name + '_emotion_training.log'\n",
        "\n",
        "    csv_logger = CSVLogger(log_file_path, append=False)\n",
        "    early_stop = EarlyStopping('val_loss', patience=patience)\n",
        "    reduce_lr = ReduceLROnPlateau('val_loss', factor=0.1,patience=int(patience/4), verbose=1)\n",
        "    \n",
        "    trained_models_path = base_path + dataset_name + 'simple_cnn'\n",
        "    model_names = trained_models_path + '.{epoch:02d}-{val_loss:.2f}.hdf5'      # if error \"acc\" in 1 line ... don't confuse check entire block since fit() generates a inner loop\n",
        "    model_checkpoint = ModelCheckpoint(model_names, 'val_loss', verbose=1,save_best_only=True)\n",
        "    my_callbacks = [model_checkpoint, csv_logger, early_stop, reduce_lr]\n",
        "\n",
        "    # loading dataset\n",
        "    train_faces, train_emotions = train_data\n",
        "    history=model.fit_generator(data_generator.flow(train_faces, train_emotions,\n",
        "                                            batch_size),\n",
        "                        epochs=num_epochs, verbose=1\n",
        "                        ,callbacks=my_callbacks,validation_data =val_data)   #not callbacks = [my_callbacks] since we my_callbacks is already a list "
      ],
      "execution_count": null,
      "outputs": [
        {
          "output_type": "stream",
          "text": [
            "Training dataset: fer2013\n",
            "Epoch 1/30\n",
            "898/898 [==============================] - 37s 41ms/step - loss: 1.7446 - accuracy: 0.3049 - val_loss: 1.6654 - val_accuracy: 0.3469\n",
            "\n",
            "Epoch 00001: val_loss improved from inf to 1.66542, saving model to /contentfer2013simple_cnn.01-1.67.hdf5\n",
            "Epoch 2/30\n",
            "898/898 [==============================] - 27s 30ms/step - loss: 1.6229 - accuracy: 0.3599 - val_loss: 1.5122 - val_accuracy: 0.4136\n",
            "\n",
            "Epoch 00002: val_loss improved from 1.66542 to 1.51218, saving model to /contentfer2013simple_cnn.02-1.51.hdf5\n",
            "Epoch 3/30\n",
            "898/898 [==============================] - 27s 30ms/step - loss: 1.5591 - accuracy: 0.3882 - val_loss: 1.4288 - val_accuracy: 0.4473\n",
            "\n",
            "Epoch 00003: val_loss improved from 1.51218 to 1.42880, saving model to /contentfer2013simple_cnn.03-1.43.hdf5\n",
            "Epoch 4/30\n",
            "898/898 [==============================] - 27s 30ms/step - loss: 1.5137 - accuracy: 0.4102 - val_loss: 1.3665 - val_accuracy: 0.4759\n",
            "\n",
            "Epoch 00004: val_loss improved from 1.42880 to 1.36649, saving model to /contentfer2013simple_cnn.04-1.37.hdf5\n",
            "Epoch 5/30\n",
            "898/898 [==============================] - 27s 30ms/step - loss: 1.4730 - accuracy: 0.4316 - val_loss: 1.3454 - val_accuracy: 0.4852\n",
            "\n",
            "Epoch 00005: val_loss improved from 1.36649 to 1.34536, saving model to /contentfer2013simple_cnn.05-1.35.hdf5\n",
            "Epoch 6/30\n",
            "898/898 [==============================] - 27s 30ms/step - loss: 1.4482 - accuracy: 0.4409 - val_loss: 1.3031 - val_accuracy: 0.5021\n",
            "\n",
            "Epoch 00006: val_loss improved from 1.34536 to 1.30313, saving model to /contentfer2013simple_cnn.06-1.30.hdf5\n",
            "Epoch 7/30\n",
            "898/898 [==============================] - 26s 29ms/step - loss: 1.4202 - accuracy: 0.4541 - val_loss: 1.3007 - val_accuracy: 0.5079\n",
            "\n",
            "Epoch 00007: val_loss improved from 1.30313 to 1.30072, saving model to /contentfer2013simple_cnn.07-1.30.hdf5\n",
            "Epoch 8/30\n",
            "898/898 [==============================] - 26s 29ms/step - loss: 1.4081 - accuracy: 0.4610 - val_loss: 1.2745 - val_accuracy: 0.5052\n",
            "\n",
            "Epoch 00008: val_loss improved from 1.30072 to 1.27453, saving model to /contentfer2013simple_cnn.08-1.27.hdf5\n",
            "Epoch 9/30\n",
            "898/898 [==============================] - 26s 29ms/step - loss: 1.3888 - accuracy: 0.4678 - val_loss: 1.2456 - val_accuracy: 0.5255\n",
            "\n",
            "Epoch 00009: val_loss improved from 1.27453 to 1.24560, saving model to /contentfer2013simple_cnn.09-1.25.hdf5\n",
            "Epoch 10/30\n",
            "898/898 [==============================] - 27s 30ms/step - loss: 1.3702 - accuracy: 0.4759 - val_loss: 1.2763 - val_accuracy: 0.5163\n",
            "\n",
            "Epoch 00010: val_loss did not improve from 1.24560\n",
            "Epoch 11/30\n",
            "898/898 [==============================] - 26s 29ms/step - loss: 1.3630 - accuracy: 0.4778 - val_loss: 1.2710 - val_accuracy: 0.5162\n",
            "\n",
            "Epoch 00011: val_loss did not improve from 1.24560\n",
            "Epoch 12/30\n",
            "898/898 [==============================] - 26s 29ms/step - loss: 1.3511 - accuracy: 0.4833 - val_loss: 1.2702 - val_accuracy: 0.5181\n",
            "\n",
            "Epoch 00012: val_loss did not improve from 1.24560\n",
            "Epoch 13/30\n",
            "898/898 [==============================] - 26s 29ms/step - loss: 1.3365 - accuracy: 0.4922 - val_loss: 1.2123 - val_accuracy: 0.5337\n",
            "\n",
            "Epoch 00013: val_loss improved from 1.24560 to 1.21234, saving model to /contentfer2013simple_cnn.13-1.21.hdf5\n",
            "Epoch 14/30\n",
            "898/898 [==============================] - 26s 29ms/step - loss: 1.3364 - accuracy: 0.4879 - val_loss: 1.2081 - val_accuracy: 0.5422\n",
            "\n",
            "Epoch 00014: val_loss improved from 1.21234 to 1.20806, saving model to /contentfer2013simple_cnn.14-1.21.hdf5\n",
            "Epoch 15/30\n",
            "898/898 [==============================] - 26s 29ms/step - loss: 1.3291 - accuracy: 0.4931 - val_loss: 1.2064 - val_accuracy: 0.5357\n",
            "\n",
            "Epoch 00015: val_loss improved from 1.20806 to 1.20638, saving model to /contentfer2013simple_cnn.15-1.21.hdf5\n",
            "Epoch 16/30\n",
            "898/898 [==============================] - 26s 29ms/step - loss: 1.3167 - accuracy: 0.4967 - val_loss: 1.1628 - val_accuracy: 0.5606\n",
            "\n",
            "Epoch 00016: val_loss improved from 1.20638 to 1.16279, saving model to /contentfer2013simple_cnn.16-1.16.hdf5\n",
            "Epoch 17/30\n",
            "898/898 [==============================] - 27s 30ms/step - loss: 1.3130 - accuracy: 0.4991 - val_loss: 1.1738 - val_accuracy: 0.5500\n",
            "\n",
            "Epoch 00017: val_loss did not improve from 1.16279\n",
            "Epoch 18/30\n",
            "898/898 [==============================] - 26s 29ms/step - loss: 1.3083 - accuracy: 0.5014 - val_loss: 1.1813 - val_accuracy: 0.5481\n",
            "\n",
            "Epoch 00018: val_loss did not improve from 1.16279\n",
            "Epoch 19/30\n",
            "898/898 [==============================] - 26s 29ms/step - loss: 1.2999 - accuracy: 0.5035 - val_loss: 1.2064 - val_accuracy: 0.5298\n",
            "\n",
            "Epoch 00019: val_loss did not improve from 1.16279\n",
            "Epoch 20/30\n",
            "898/898 [==============================] - 26s 29ms/step - loss: 1.3074 - accuracy: 0.5015 - val_loss: 1.1540 - val_accuracy: 0.5595\n",
            "\n",
            "Epoch 00020: val_loss improved from 1.16279 to 1.15402, saving model to /contentfer2013simple_cnn.20-1.15.hdf5\n",
            "Epoch 21/30\n",
            "898/898 [==============================] - 26s 28ms/step - loss: 1.2921 - accuracy: 0.5103 - val_loss: 1.1651 - val_accuracy: 0.5535\n",
            "\n",
            "Epoch 00021: val_loss did not improve from 1.15402\n",
            "Epoch 22/30\n",
            "898/898 [==============================] - 26s 29ms/step - loss: 1.2921 - accuracy: 0.5087 - val_loss: 1.1362 - val_accuracy: 0.5690\n",
            "\n",
            "Epoch 00022: val_loss improved from 1.15402 to 1.13617, saving model to /contentfer2013simple_cnn.22-1.14.hdf5\n",
            "Epoch 23/30\n",
            "898/898 [==============================] - 26s 29ms/step - loss: 1.2882 - accuracy: 0.5093 - val_loss: 1.1399 - val_accuracy: 0.5663\n",
            "\n",
            "Epoch 00023: val_loss did not improve from 1.13617\n",
            "Epoch 24/30\n",
            "898/898 [==============================] - 26s 29ms/step - loss: 1.2854 - accuracy: 0.5111 - val_loss: 1.1724 - val_accuracy: 0.5563\n",
            "\n",
            "Epoch 00024: val_loss did not improve from 1.13617\n",
            "Epoch 25/30\n",
            "898/898 [==============================] - 25s 28ms/step - loss: 1.2772 - accuracy: 0.5147 - val_loss: 1.1784 - val_accuracy: 0.5536\n",
            "\n",
            "Epoch 00025: val_loss did not improve from 1.13617\n",
            "Epoch 26/30\n",
            "898/898 [==============================] - 26s 29ms/step - loss: 1.2736 - accuracy: 0.5157 - val_loss: 1.1752 - val_accuracy: 0.5503\n",
            "\n",
            "Epoch 00026: val_loss did not improve from 1.13617\n",
            "Epoch 27/30\n",
            "898/898 [==============================] - 27s 30ms/step - loss: 1.2792 - accuracy: 0.5131 - val_loss: 1.1507 - val_accuracy: 0.5575\n",
            "\n",
            "Epoch 00027: val_loss did not improve from 1.13617\n",
            "Epoch 28/30\n",
            "898/898 [==============================] - 26s 28ms/step - loss: 1.2703 - accuracy: 0.5182 - val_loss: 1.1351 - val_accuracy: 0.5624\n",
            "\n",
            "Epoch 00028: val_loss improved from 1.13617 to 1.13507, saving model to /contentfer2013simple_cnn.28-1.14.hdf5\n",
            "Epoch 29/30\n",
            "898/898 [==============================] - 26s 29ms/step - loss: 1.2687 - accuracy: 0.5175 - val_loss: 1.1815 - val_accuracy: 0.5410\n",
            "\n",
            "Epoch 00029: val_loss did not improve from 1.13507\n",
            "Epoch 30/30\n",
            "898/898 [==============================] - 26s 29ms/step - loss: 1.2706 - accuracy: 0.5166 - val_loss: 1.1163 - val_accuracy: 0.5697\n",
            "\n",
            "Epoch 00030: val_loss improved from 1.13507 to 1.11626, saving model to /contentfer2013simple_cnn.30-1.12.hdf5\n"
          ],
          "name": "stdout"
        }
      ]
    },
    {
      "cell_type": "markdown",
      "metadata": {
        "id": "py6W0E8z6SId",
        "colab_type": "text"
      },
      "source": [
        "**keras**\n",
        "* **callbacks** => an object that can perform actions at various stages of training\n",
        "      1. write tensorflowboard logs after every batch\n",
        "      2. periodically save model to disk\n",
        "      3. do early stopping \n",
        "      4. view on internal states and statistics during training\n",
        "      * used in fit() loop\n",
        "  * **CSVLogger(filename, separator=\",')**  --> to save epoch results to a csv file\n",
        "      * create obj and use that obj in fit(callbacks=[csv_logger_obj])\n",
        "  * **EarlyStopping()** --> stop training when a monitored metric \n",
        "  has stopped improving\n",
        "      1. monitor = \"val_loss\" --> loss function to be monitored\n",
        "      2. min_delta --> minimum change to count(threshold)\n",
        "      3. patience --> no of epochs with no improvement to stop training\n",
        "  * **ReduceLROnPlateau()**--> reduce learning rate when metric has stopped improving\n",
        "      1. monitor, patience, min_delta\n",
        "      2. factor = 0.1 ==> learning rate reduced to 10% (lr*0.1)\n",
        "      3. verbose ==> 0: quiet , 1: update msgs\n",
        "  * **ModelCheckpoint()** -->to save  keras model or model weights at some frequency\n",
        "      1. filepath\n",
        "      2. monitor --> val_acc or val_loss\n",
        "      3. save_best_only = True \n",
        "\n",
        "---\n",
        "fit_generator(.flow(X,y, batchsize), verbose,epochs,validation_data)"
      ]
    },
    {
      "cell_type": "markdown",
      "metadata": {
        "id": "8aTQpoDjDdsU",
        "colab_type": "text"
      },
      "source": [
        "* fit() ==> training loop\n",
        "* logs ==> dict"
      ]
    },
    {
      "cell_type": "code",
      "metadata": {
        "id": "vI4nPHW1WZ4r",
        "colab_type": "code",
        "colab": {
          "base_uri": "https://localhost:8080/",
          "height": 68
        },
        "outputId": "13b47143-8b6f-439f-c47c-49586042f5e3"
      },
      "source": [
        "#evaluate() returns [loss,acc]\n",
        "score = model.evaluate(val_x, val_y, verbose=1) \n",
        "print('Test loss:', score[0])\n",
        "print('Test accuracy:', score[1]*100)\n"
      ],
      "execution_count": null,
      "outputs": [
        {
          "output_type": "stream",
          "text": [
            "7178/7178 [==============================] - 1s 195us/step\n",
            "Test loss: 1.1162637857116673\n",
            "Test accuracy: 56.96572661399841\n"
          ],
          "name": "stdout"
        }
      ]
    },
    {
      "cell_type": "markdown",
      "metadata": {
        "id": "IXedkSpQncmu",
        "colab_type": "text"
      },
      "source": [
        "**history** ====> default callbacks that is registered when training \n",
        "\n",
        "        1.  records training metrics for each epoch\n",
        "        2. these metrics stored in dictionary in history member of object returned\n",
        "        3. obj returns from calls to fit() used to train model \n",
        "        4. data collected in history obj  used to create plots"
      ]
    },
    {
      "cell_type": "code",
      "metadata": {
        "id": "MzP_WR5DqZJE",
        "colab_type": "code",
        "colab": {
          "base_uri": "https://localhost:8080/",
          "height": 34
        },
        "outputId": "2c2e0a43-25ce-4ab6-b895-a71d3020db9e"
      },
      "source": [
        "\"\"\" metrics collected by history object \"\"\"\n",
        "history_dict=history.history\n",
        "history_dict.keys()"
      ],
      "execution_count": null,
      "outputs": [
        {
          "output_type": "execute_result",
          "data": {
            "text/plain": [
              "dict_keys(['val_loss', 'val_accuracy', 'loss', 'accuracy', 'lr'])"
            ]
          },
          "metadata": {
            "tags": []
          },
          "execution_count": 58
        }
      ]
    },
    {
      "cell_type": "code",
      "metadata": {
        "id": "rxGe4TkroeLK",
        "colab_type": "code",
        "colab": {
          "base_uri": "https://localhost:8080/",
          "height": 54
        },
        "outputId": "1c1d92a6-f043-4b45-bcbe-187d517110ec"
      },
      "source": [
        "print(history_dict[\"accuracy\"])"
      ],
      "execution_count": null,
      "outputs": [
        {
          "output_type": "stream",
          "text": [
            "[0.3049218, 0.35992196, 0.38824064, 0.41015014, 0.4316068, 0.44094187, 0.45410848, 0.46100527, 0.4678324, 0.47587866, 0.4777596, 0.48326308, 0.49221498, 0.4878958, 0.4931206, 0.49670836, 0.49911177, 0.50144553, 0.50350064, 0.5015152, 0.5102581, 0.50872546, 0.5092828, 0.5111289, 0.5147166, 0.5156571, 0.51311433, 0.51823467, 0.5174684, 0.51659757]\n"
          ],
          "name": "stdout"
        }
      ]
    },
    {
      "cell_type": "code",
      "metadata": {
        "id": "gzqA8Zq-UyqL",
        "colab_type": "code",
        "colab": {
          "base_uri": "https://localhost:8080/",
          "height": 295
        },
        "outputId": "93c787ed-30af-49b2-ca15-9a8f36937b67"
      },
      "source": [
        "\"\"\" Visualising model training history \"\"\"\n",
        "\n",
        "import matplotlib.pyplot as plt\n",
        "\n",
        "train_loss_values = history_dict['loss']\n",
        "val_loss_values = history_dict['val_loss']\n",
        "\n",
        "epochs = range(1, len(history_dict['accuracy']) + 1)\n",
        "\n",
        "plt.plot(epochs, train_loss_values, 'bo', label='Training loss')\n",
        "plt.plot(epochs, val_loss_values, 'b', label='Validation loss')\n",
        "plt.title('Training and validation loss')\n",
        "plt.xlabel('Epochs')\n",
        "plt.ylabel('Loss')\n",
        "plt.legend()\n",
        "plt.show()"
      ],
      "execution_count": null,
      "outputs": [
        {
          "output_type": "display_data",
          "data": {
            "image/png": "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\n",
            "text/plain": [
              "<Figure size 432x288 with 1 Axes>"
            ]
          },
          "metadata": {
            "tags": [],
            "needs_background": "light"
          }
        }
      ]
    },
    {
      "cell_type": "code",
      "metadata": {
        "id": "tEe3qvhv5ZA9",
        "colab_type": "code",
        "colab": {}
      },
      "source": [
        "train_acc = history_dict['accuracy']\n",
        "val_acc = history_dict['val_accuracy']\n",
        "plt.plot(epochs, train_acc, 'bo', label='Training acc')\n",
        "plt.plot(epochs, val_acc, 'b', label='Validation acc')\n",
        "plt.title('Training and validation accuracy')\n",
        "plt.xlabel('Epochs')\n",
        "plt.ylabel('Loss')\n",
        "plt.legend()\n",
        "plt.show()"
      ],
      "execution_count": null,
      "outputs": []
    },
    {
      "cell_type": "markdown",
      "metadata": {
        "id": "_qN9xk7ThKwQ",
        "colab_type": "text"
      },
      "source": [
        "## Testing the model on  some images"
      ]
    },
    {
      "cell_type": "code",
      "metadata": {
        "id": "2k1XVnmqbCNu",
        "colab_type": "code",
        "colab": {}
      },
      "source": [
        " emotion_dict = {0: \"Neutral\", 1: \"Disgusted\", 2: \"Fearful\", 3: \"Happy\", 4: \"Sad\", 5: \"Surprised\", 6: \"Neutral\"}\n",
        "\n",
        "  #emojis unicodes #\n",
        " emojis = { 0:\"\\U0001f620\",1:\"\\U0001f922\" ,2:\"\\U0001f628\" ,3:\"\\U0001f60A\" , 4:\"\\U0001f625\" ,5:\"\\U0001f632\",6:\"\\U0001f610\" }"
      ],
      "execution_count": 92,
      "outputs": []
    },
    {
      "cell_type": "code",
      "metadata": {
        "id": "q9Tm7hlE7953",
        "colab_type": "code",
        "colab": {
          "base_uri": "https://localhost:8080/",
          "height": 34
        },
        "outputId": "f29127d1-c3c3-48e3-86b1-f7ba972cec0c"
      },
      "source": [
        "print(emojis.values(),sep=\" \")"
      ],
      "execution_count": 83,
      "outputs": [
        {
          "output_type": "stream",
          "text": [
            "dict_values(['😠', '🤢', '😨', '😊', '😥', '😲', '😐'])\n"
          ],
          "name": "stdout"
        }
      ]
    },
    {
      "cell_type": "code",
      "metadata": {
        "id": "WC8haBpdsQnR",
        "colab_type": "code",
        "colab": {
          "base_uri": "https://localhost:8080/",
          "height": 102
        },
        "outputId": "40a2798d-9e5b-4379-db50-095e56946203"
      },
      "source": [
        "!cd content\n",
        "!pwd\n",
        "!ls"
      ],
      "execution_count": 13,
      "outputs": [
        {
          "output_type": "stream",
          "text": [
            "/bin/bash: line 0: cd: content: No such file or directory\n",
            "/content\n",
            "haarcascade_frontalface_default.xml  multistar.jpg    sample_data\n",
            "model.h5\t\t\t     ntr.jpg\n",
            "model.json\t\t\t     Ram_Charan.webp\n"
          ],
          "name": "stdout"
        }
      ]
    },
    {
      "cell_type": "code",
      "metadata": {
        "id": "jNlsHugdbC4C",
        "colab_type": "code",
        "colab": {}
      },
      "source": [
        "from google.colab.patches import cv2_imshow\n",
        "import cv2\n",
        "\n",
        "def _predict(path):\n",
        "  facecasc = cv2.CascadeClassifier('/content/haarcascade_frontalface_default.xml')\n",
        "  imagePath = '/content/'+path\n",
        "  image = cv2.imread(imagePath)\n",
        "  gray = cv2.cvtColor(image, cv2.COLOR_BGR2GRAY)\n",
        "  faces = facecasc.detectMultiScale(gray,scaleFactor=1.3, minNeighbors=10)\n",
        "  print(\"No of faces : \",len(faces))\n",
        "  i = 1\n",
        "  for (x, y, w, h) in faces:\n",
        "    cv2.rectangle(image, (x, y), (x+w, y+h), (0, 255, 0), 2)\n",
        "    roi_gray = gray[y:y + h, x:x + w]                      #croping\n",
        "    cropped_img = np.expand_dims(np.expand_dims(cv2.resize(roi_gray, (48, 48)), -1), 0)\n",
        "    prediction = model.predict(cropped_img)\n",
        "\n",
        "    maxindex = int(np.argmax(prediction))\n",
        "    print(\"person \",i,\" : \",emotion_dict[maxindex], \"-->\",emojis[maxindex])\n",
        "    cv2.putText(image, emotion_dict[maxindex], (x+10, y-20), cv2.FONT_HERSHEY_SIMPLEX, 0.7, (255, 255, 255), 2)  \n",
        "                                              #if text is not apeared , change coordinates. it may work\n",
        "  \n",
        "  cv2_imshow(image)"
      ],
      "execution_count": 84,
      "outputs": []
    },
    {
      "cell_type": "code",
      "metadata": {
        "id": "OXxZnpF1BliC",
        "colab_type": "code",
        "colab": {
          "base_uri": "https://localhost:8080/",
          "height": 1000
        },
        "outputId": "c9629700-4fe2-48d2-f39a-f9e475d66c88"
      },
      "source": [
        "_predict(\"images\\me.png\")"
      ],
      "execution_count": 93,
      "outputs": [
        {
          "output_type": "stream",
          "text": [
            "No of faces :  1\n",
            "person  1  :  Happy --> 😊\n"
          ],
          "name": "stdout"
        },
        {
          "output_type": "display_data",
          "data": {
            "image/png": "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