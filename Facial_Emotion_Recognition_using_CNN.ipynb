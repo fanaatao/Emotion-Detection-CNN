{
  "nbformat": 4,
  "nbformat_minor": 0,
  "metadata": {
    "colab": {
      "name": "Facial Emotion Recognition using CNN.ipynb",
      "provenance": [],
      "collapsed_sections": []
    },
    "kernelspec": {
      "name": "python3",
      "display_name": "Python 3"
    },
    "accelerator": "GPU"
  },
  "cells": [
    {
      "cell_type": "markdown",
      "metadata": {
        "id": "ztky6L9E-lnP",
        "colab_type": "text"
      },
      "source": [
        "# **Facial Emotion Recognition**\n",
        "\n",
        "\n",
        "\n",
        "\n",
        "\n",
        "\n",
        "Dataset - https://www.kaggle.com/c/challenges-in-representation-learning-facial-expression-recognition-challenge/data\n"
      ]
    },
    {
      "cell_type": "code",
      "metadata": {
        "id": "CHrzqEejOjR9",
        "colab_type": "code",
        "colab": {}
      },
      "source": [
        "_author_ = \" Prudhvi_GNV \""
      ],
      "execution_count": null,
      "outputs": []
    },
    {
      "cell_type": "markdown",
      "metadata": {
        "id": "9CULEspsFALh",
        "colab_type": "text"
      },
      "source": [
        "**kaggle --account--Api**\n",
        "API's are used to access data from kaggle\n",
        "1. kaggle a/c -> my profile -> create api token\n",
        "2. In colabs ..while uploading api file... go to /content\n",
        "3. make .kaggle directory in /root \n",
        "4. copy kaggle api from /content to /root/.kaggle\n",
        "5. kaggle cmd(find in kaggle dataset page-> data) to download\n",
        "6. unzip the downloaded dataset\n"
      ]
    },
    {
      "cell_type": "code",
      "metadata": {
        "id": "tbi7hj_R8_yD",
        "colab_type": "code",
        "colab": {
          "base_uri": "https://localhost:8080/",
          "height": 35
        },
        "outputId": "821b2a4d-cf9c-4511-db4e-81d97a403842"
      },
      "source": [
        "pwd"
      ],
      "execution_count": null,
      "outputs": [
        {
          "output_type": "execute_result",
          "data": {
            "application/vnd.google.colaboratory.intrinsic": {
              "type": "string"
            },
            "text/plain": [
              "'/content'"
            ]
          },
          "metadata": {
            "tags": []
          },
          "execution_count": 1
        }
      ]
    },
    {
      "cell_type": "code",
      "metadata": {
        "id": "nt4jf1OW_6gf",
        "colab_type": "code",
        "colab": {
          "base_uri": "https://localhost:8080/",
          "height": 34
        },
        "outputId": "19a22d24-44f2-4198-a522-706ec250a91f"
      },
      "source": [
        "cd /root"
      ],
      "execution_count": null,
      "outputs": [
        {
          "output_type": "stream",
          "text": [
            "/root\n"
          ],
          "name": "stdout"
        }
      ]
    },
    {
      "cell_type": "code",
      "metadata": {
        "id": "PEY-3HG5AHFB",
        "colab_type": "code",
        "colab": {}
      },
      "source": [
        "mkdir .kaggle               # .kaggle not /.kaggle"
      ],
      "execution_count": null,
      "outputs": []
    },
    {
      "cell_type": "code",
      "metadata": {
        "id": "cNO-HFFq85a0",
        "colab_type": "code",
        "colab": {
          "base_uri": "https://localhost:8080/",
          "height": 34
        },
        "outputId": "d4247e10-6aab-422b-a1bc-2dc90ed1a465"
      },
      "source": [
        "cd /root/.kaggle"
      ],
      "execution_count": null,
      "outputs": [
        {
          "output_type": "stream",
          "text": [
            "/root/.kaggle\n"
          ],
          "name": "stdout"
        }
      ]
    },
    {
      "cell_type": "code",
      "metadata": {
        "id": "pqSXEsJ29HP7",
        "colab_type": "code",
        "colab": {}
      },
      "source": [
        "!cp /content/kaggle.json ~/.kaggle \n"
      ],
      "execution_count": null,
      "outputs": []
    },
    {
      "cell_type": "code",
      "metadata": {
        "id": "bN48VBLQpQb3",
        "colab_type": "code",
        "colab": {
          "base_uri": "https://localhost:8080/",
          "height": 35
        },
        "outputId": "ca46b866-1ee6-4b15-d5e4-b8c04257c39f"
      },
      "source": [
        "pwd"
      ],
      "execution_count": null,
      "outputs": [
        {
          "output_type": "execute_result",
          "data": {
            "application/vnd.google.colaboratory.intrinsic": {
              "type": "string"
            },
            "text/plain": [
              "'/root/.kaggle'"
            ]
          },
          "metadata": {
            "tags": []
          },
          "execution_count": 6
        }
      ]
    },
    {
      "cell_type": "code",
      "metadata": {
        "id": "3YSkULw_pT0c",
        "colab_type": "code",
        "colab": {
          "base_uri": "https://localhost:8080/",
          "height": 34
        },
        "outputId": "80e39c48-8bb8-49ab-c1cd-857aa1cca10a"
      },
      "source": [
        "ls"
      ],
      "execution_count": null,
      "outputs": [
        {
          "output_type": "stream",
          "text": [
            "kaggle.json\n"
          ],
          "name": "stdout"
        }
      ]
    },
    {
      "cell_type": "code",
      "metadata": {
        "id": "4Vlkz9IP9otV",
        "colab_type": "code",
        "colab": {
          "base_uri": "https://localhost:8080/",
          "height": 34
        },
        "outputId": "f83ebad3-f048-47f0-d3ee-9b3b8f18a37b"
      },
      "source": [
        "ls"
      ],
      "execution_count": null,
      "outputs": [
        {
          "output_type": "stream",
          "text": [
            "kaggle.json\n"
          ],
          "name": "stdout"
        }
      ]
    },
    {
      "cell_type": "code",
      "metadata": {
        "id": "LEkxCltOmE5v",
        "colab_type": "code",
        "colab": {
          "base_uri": "https://localhost:8080/",
          "height": 258
        },
        "outputId": "30fc2762-aa92-452e-f9fd-4c5525d13f27"
      },
      "source": [
        "# if ..looks like outdated api ..server version ERROR occurs\n",
        "!pip install --upgrade --force-reinstall --no-deps kaggle"
      ],
      "execution_count": null,
      "outputs": [
        {
          "output_type": "stream",
          "text": [
            "Collecting kaggle\n",
            "\u001b[?25l  Downloading https://files.pythonhosted.org/packages/62/ab/bb20f9b9e24f9a6250f95a432f8d9a7d745f8d24039d7a5a6eaadb7783ba/kaggle-1.5.6.tar.gz (58kB)\n",
            "\r\u001b[K     |█████▋                          | 10kB 24.4MB/s eta 0:00:01\r\u001b[K     |███████████▎                    | 20kB 6.1MB/s eta 0:00:01\r\u001b[K     |█████████████████               | 30kB 7.4MB/s eta 0:00:01\r\u001b[K     |██████████████████████▌         | 40kB 8.1MB/s eta 0:00:01\r\u001b[K     |████████████████████████████▏   | 51kB 6.8MB/s eta 0:00:01\r\u001b[K     |████████████████████████████████| 61kB 3.4MB/s \n",
            "\u001b[?25hBuilding wheels for collected packages: kaggle\n",
            "  Building wheel for kaggle (setup.py) ... \u001b[?25l\u001b[?25hdone\n",
            "  Created wheel for kaggle: filename=kaggle-1.5.6-cp36-none-any.whl size=72859 sha256=0689620788124ce19b2ecf97618b3447d3c4da0549599431734918529a9826aa\n",
            "  Stored in directory: /root/.cache/pip/wheels/57/4e/e8/bb28d035162fb8f17f8ca5d42c3230e284c6aa565b42b72674\n",
            "Successfully built kaggle\n",
            "Installing collected packages: kaggle\n",
            "  Found existing installation: kaggle 1.5.6\n",
            "    Uninstalling kaggle-1.5.6:\n",
            "      Successfully uninstalled kaggle-1.5.6\n",
            "Successfully installed kaggle-1.5.6\n"
          ],
          "name": "stdout"
        }
      ]
    },
    {
      "cell_type": "code",
      "metadata": {
        "id": "ytfZi3nJmilT",
        "colab_type": "code",
        "colab": {}
      },
      "source": [
        "#if ..only read permisions ..ERROR\n",
        "!chmod 600 /root/.kaggle/kaggle.json"
      ],
      "execution_count": null,
      "outputs": []
    },
    {
      "cell_type": "code",
      "metadata": {
        "id": "yTPl804d77nk",
        "colab_type": "code",
        "colab": {
          "base_uri": "https://localhost:8080/",
          "height": 68
        },
        "outputId": "e3bf67fe-e747-4999-8321-ecfc11f9840d"
      },
      "source": [
        "# if 403 forbidden ERROR ... then accept the rules in kaggle dataset page\n",
        "\n",
        "!kaggle competitions download -c challenges-in-representation-learning-facial-expression-recognition-challenge"
      ],
      "execution_count": null,
      "outputs": [
        {
          "output_type": "stream",
          "text": [
            "Downloading challenges-in-representation-learning-facial-expression-recognition-challenge.zip to /root/.kaggle\n",
            " 96% 273M/285M [00:05<00:00, 38.1MB/s]\n",
            "100% 285M/285M [00:05<00:00, 50.1MB/s]\n"
          ],
          "name": "stdout"
        }
      ]
    },
    {
      "cell_type": "code",
      "metadata": {
        "id": "grCSTKE-_UG3",
        "colab_type": "code",
        "colab": {
          "base_uri": "https://localhost:8080/",
          "height": 51
        },
        "outputId": "c23805f9-096b-42b4-aa2f-ecf05809922e"
      },
      "source": [
        "ls"
      ],
      "execution_count": null,
      "outputs": [
        {
          "output_type": "stream",
          "text": [
            "challenges-in-representation-learning-facial-expression-recognition-challenge.zip\n",
            "kaggle.json\n"
          ],
          "name": "stdout"
        }
      ]
    },
    {
      "cell_type": "code",
      "metadata": {
        "id": "MEobtx6O9qvT",
        "colab_type": "code",
        "colab": {
          "base_uri": "https://localhost:8080/",
          "height": 119
        },
        "outputId": "d2252ea3-ed19-49c4-86f5-4a248f8e9082"
      },
      "source": [
        "!unzip challenges-in-representation-learning-facial-expression-recognition-challenge.zip"
      ],
      "execution_count": null,
      "outputs": [
        {
          "output_type": "stream",
          "text": [
            "Archive:  challenges-in-representation-learning-facial-expression-recognition-challenge.zip\n",
            "  inflating: example_submission.csv  \n",
            "  inflating: fer2013.tar.gz          \n",
            "  inflating: icml_face_data.csv      \n",
            "  inflating: test.csv                \n",
            "  inflating: train.csv               \n"
          ],
          "name": "stdout"
        }
      ]
    },
    {
      "cell_type": "code",
      "metadata": {
        "id": "fAiYFWW7_vMT",
        "colab_type": "code",
        "colab": {
          "base_uri": "https://localhost:8080/",
          "height": 136
        },
        "outputId": "ce44cebc-d1e3-4f07-9b65-c38ffc0d2b4f"
      },
      "source": [
        "ls"
      ],
      "execution_count": null,
      "outputs": [
        {
          "output_type": "stream",
          "text": [
            "challenges-in-representation-learning-facial-expression-recognition-challenge.zip\n",
            "example_submission.csv\n",
            "fer2013.tar.gz\n",
            "icml_face_data.csv\n",
            "kaggle.json\n",
            "test.csv\n",
            "train.csv\n"
          ],
          "name": "stdout"
        }
      ]
    },
    {
      "cell_type": "code",
      "metadata": {
        "id": "oQgMssSBwypP",
        "colab_type": "code",
        "colab": {}
      },
      "source": [
        "!tar -xf fer2013.tar.gz   # x= extract , f= to create archive"
      ],
      "execution_count": null,
      "outputs": []
    },
    {
      "cell_type": "code",
      "metadata": {
        "id": "tiO3ojiRw4wW",
        "colab_type": "code",
        "colab": {
          "base_uri": "https://localhost:8080/",
          "height": 153
        },
        "outputId": "e0e40a5c-a7b9-4b91-9082-966b73da2aa8"
      },
      "source": [
        "ls"
      ],
      "execution_count": null,
      "outputs": [
        {
          "output_type": "stream",
          "text": [
            "challenges-in-representation-learning-facial-expression-recognition-challenge.zip\n",
            "example_submission.csv\n",
            "\u001b[0m\u001b[01;34mfer2013\u001b[0m/\n",
            "fer2013.tar.gz\n",
            "icml_face_data.csv\n",
            "kaggle.json\n",
            "test.csv\n",
            "train.csv\n"
          ],
          "name": "stdout"
        }
      ]
    },
    {
      "cell_type": "code",
      "metadata": {
        "id": "LIq55w1FF5fQ",
        "colab_type": "code",
        "colab": {
          "base_uri": "https://localhost:8080/",
          "height": 34
        },
        "outputId": "04b0e543-2e6f-4f3c-f969-eba890e9be24"
      },
      "source": [
        "cd fer2013"
      ],
      "execution_count": null,
      "outputs": [
        {
          "output_type": "stream",
          "text": [
            "/root/.kaggle/fer2013\n"
          ],
          "name": "stdout"
        }
      ]
    },
    {
      "cell_type": "code",
      "metadata": {
        "id": "YaVtewzUF-zA",
        "colab_type": "code",
        "colab": {
          "base_uri": "https://localhost:8080/",
          "height": 34
        },
        "outputId": "a534b5ca-77cd-488c-cfd2-2c6e1af274cc"
      },
      "source": [
        "ls"
      ],
      "execution_count": null,
      "outputs": [
        {
          "output_type": "stream",
          "text": [
            "fer2013.bib  fer2013.csv  README\n"
          ],
          "name": "stdout"
        }
      ]
    },
    {
      "cell_type": "markdown",
      "metadata": {
        "id": "9YeU4HHZ_bS4",
        "colab_type": "text"
      },
      "source": [
        "## **Dataset**\n",
        "* The data consists of 48x48 pixel grayscale images of faces. \n",
        " \n",
        "* The task is to categorize each face based on the emotion shown in the facial expression in to one of seven categories (0=Angry, 1=Disgust, 2=Fear, 3=Happy, 4=Sad, 5=Surprise, 6=Neutral).\n",
        "* Dataset contains two columns, \"emotion\" and \"pixels\".\n",
        "* The \"emotion\" column contains a numeric code ranging from 0 to 6, inclusive, for the emotion that is present in the image. \n",
        "* The \"pixels\" column contains a string surrounded in quotes for each image. The contents of this string a space-separated pixel values in row major order. test.csv contains only the \"pixels\" column and your task is to predict the emotion column."
      ]
    },
    {
      "cell_type": "markdown",
      "metadata": {
        "id": "7Zu89RTzBMty",
        "colab_type": "text"
      },
      "source": [
        "# Data Visualization\n",
        "\n",
        "* powerful visualization tools => matplotlib, seaborn\n",
        "      1. matplotlib works on pandas dataframe\n",
        "      2.  matplotlib => basic ploting =>bars,pie,scatter, lines etc.. => used for MATLAB like graphs\n",
        "      3. seaborn => statistical ploting => depends on matplotlib...high level => provides default templates"
      ]
    },
    {
      "cell_type": "code",
      "metadata": {
        "id": "xcfiDv03-cGX",
        "colab_type": "code",
        "colab": {
          "base_uri": "https://localhost:8080/",
          "height": 71
        },
        "outputId": "b97002a4-fa58-4cf7-d3d0-8e4b7394ef20"
      },
      "source": [
        "\"\"\" IMPORT ALL DEPENDENCIES\"\"\"\n",
        "\n",
        "\n",
        "# NumPy for numerical computing\n",
        "import numpy as np\n",
        "\n",
        "# Pandas for DataFrames\n",
        "import pandas as pd\n",
        "\n",
        "# Matplotlib for visualization\n",
        "from matplotlib import pyplot as plt\n",
        "# display plots in the notebook\n",
        "%matplotlib inline\n",
        "# import color maps\n",
        "from matplotlib.colors import ListedColormap\n",
        "\n",
        "# Seaborn for easier visualization\n",
        "import seaborn as sns"
      ],
      "execution_count": 19,
      "outputs": [
        {
          "output_type": "stream",
          "text": [
            "/usr/local/lib/python3.6/dist-packages/statsmodels/tools/_testing.py:19: FutureWarning: pandas.util.testing is deprecated. Use the functions in the public API at pandas.testing instead.\n",
            "  import pandas.util.testing as tm\n"
          ],
          "name": "stderr"
        }
      ]
    },
    {
      "cell_type": "code",
      "metadata": {
        "id": "iTJESy7QA-5E",
        "colab_type": "code",
        "colab": {
          "base_uri": "https://localhost:8080/",
          "height": 204
        },
        "outputId": "624d7579-649e-4869-f3e8-b9ef0ffca898"
      },
      "source": [
        "df = pd.read_csv(\"/root/.kaggle/fer2013/fer2013.csv\")\n",
        "df.head()"
      ],
      "execution_count": null,
      "outputs": [
        {
          "output_type": "execute_result",
          "data": {
            "text/html": [
              "<div>\n",
              "<style scoped>\n",
              "    .dataframe tbody tr th:only-of-type {\n",
              "        vertical-align: middle;\n",
              "    }\n",
              "\n",
              "    .dataframe tbody tr th {\n",
              "        vertical-align: top;\n",
              "    }\n",
              "\n",
              "    .dataframe thead th {\n",
              "        text-align: right;\n",
              "    }\n",
              "</style>\n",
              "<table border=\"1\" class=\"dataframe\">\n",
              "  <thead>\n",
              "    <tr style=\"text-align: right;\">\n",
              "      <th></th>\n",
              "      <th>emotion</th>\n",
              "      <th>pixels</th>\n",
              "      <th>Usage</th>\n",
              "    </tr>\n",
              "  </thead>\n",
              "  <tbody>\n",
              "    <tr>\n",
              "      <th>0</th>\n",
              "      <td>0</td>\n",
              "      <td>70 80 82 72 58 58 60 63 54 58 60 48 89 115 121...</td>\n",
              "      <td>Training</td>\n",
              "    </tr>\n",
              "    <tr>\n",
              "      <th>1</th>\n",
              "      <td>0</td>\n",
              "      <td>151 150 147 155 148 133 111 140 170 174 182 15...</td>\n",
              "      <td>Training</td>\n",
              "    </tr>\n",
              "    <tr>\n",
              "      <th>2</th>\n",
              "      <td>2</td>\n",
              "      <td>231 212 156 164 174 138 161 173 182 200 106 38...</td>\n",
              "      <td>Training</td>\n",
              "    </tr>\n",
              "    <tr>\n",
              "      <th>3</th>\n",
              "      <td>4</td>\n",
              "      <td>24 32 36 30 32 23 19 20 30 41 21 22 32 34 21 1...</td>\n",
              "      <td>Training</td>\n",
              "    </tr>\n",
              "    <tr>\n",
              "      <th>4</th>\n",
              "      <td>6</td>\n",
              "      <td>4 0 0 0 0 0 0 0 0 0 0 0 3 15 23 28 48 50 58 84...</td>\n",
              "      <td>Training</td>\n",
              "    </tr>\n",
              "  </tbody>\n",
              "</table>\n",
              "</div>"
            ],
            "text/plain": [
              "   emotion                                             pixels     Usage\n",
              "0        0  70 80 82 72 58 58 60 63 54 58 60 48 89 115 121...  Training\n",
              "1        0  151 150 147 155 148 133 111 140 170 174 182 15...  Training\n",
              "2        2  231 212 156 164 174 138 161 173 182 200 106 38...  Training\n",
              "3        4  24 32 36 30 32 23 19 20 30 41 21 22 32 34 21 1...  Training\n",
              "4        6  4 0 0 0 0 0 0 0 0 0 0 0 3 15 23 28 48 50 58 84...  Training"
            ]
          },
          "metadata": {
            "tags": []
          },
          "execution_count": 20
        }
      ]
    },
    {
      "cell_type": "code",
      "metadata": {
        "id": "gbnhU1whADCT",
        "colab_type": "code",
        "colab": {
          "base_uri": "https://localhost:8080/",
          "height": 419
        },
        "outputId": "4c45e608-8b5b-4a63-a0ab-c75f37ec8b69"
      },
      "source": [
        "df"
      ],
      "execution_count": null,
      "outputs": [
        {
          "output_type": "execute_result",
          "data": {
            "text/html": [
              "<div>\n",
              "<style scoped>\n",
              "    .dataframe tbody tr th:only-of-type {\n",
              "        vertical-align: middle;\n",
              "    }\n",
              "\n",
              "    .dataframe tbody tr th {\n",
              "        vertical-align: top;\n",
              "    }\n",
              "\n",
              "    .dataframe thead th {\n",
              "        text-align: right;\n",
              "    }\n",
              "</style>\n",
              "<table border=\"1\" class=\"dataframe\">\n",
              "  <thead>\n",
              "    <tr style=\"text-align: right;\">\n",
              "      <th></th>\n",
              "      <th>emotion</th>\n",
              "      <th>pixels</th>\n",
              "      <th>Usage</th>\n",
              "    </tr>\n",
              "  </thead>\n",
              "  <tbody>\n",
              "    <tr>\n",
              "      <th>0</th>\n",
              "      <td>0</td>\n",
              "      <td>70 80 82 72 58 58 60 63 54 58 60 48 89 115 121...</td>\n",
              "      <td>Training</td>\n",
              "    </tr>\n",
              "    <tr>\n",
              "      <th>1</th>\n",
              "      <td>0</td>\n",
              "      <td>151 150 147 155 148 133 111 140 170 174 182 15...</td>\n",
              "      <td>Training</td>\n",
              "    </tr>\n",
              "    <tr>\n",
              "      <th>2</th>\n",
              "      <td>2</td>\n",
              "      <td>231 212 156 164 174 138 161 173 182 200 106 38...</td>\n",
              "      <td>Training</td>\n",
              "    </tr>\n",
              "    <tr>\n",
              "      <th>3</th>\n",
              "      <td>4</td>\n",
              "      <td>24 32 36 30 32 23 19 20 30 41 21 22 32 34 21 1...</td>\n",
              "      <td>Training</td>\n",
              "    </tr>\n",
              "    <tr>\n",
              "      <th>4</th>\n",
              "      <td>6</td>\n",
              "      <td>4 0 0 0 0 0 0 0 0 0 0 0 3 15 23 28 48 50 58 84...</td>\n",
              "      <td>Training</td>\n",
              "    </tr>\n",
              "    <tr>\n",
              "      <th>...</th>\n",
              "      <td>...</td>\n",
              "      <td>...</td>\n",
              "      <td>...</td>\n",
              "    </tr>\n",
              "    <tr>\n",
              "      <th>35882</th>\n",
              "      <td>6</td>\n",
              "      <td>50 36 17 22 23 29 33 39 34 37 37 37 39 43 48 5...</td>\n",
              "      <td>PrivateTest</td>\n",
              "    </tr>\n",
              "    <tr>\n",
              "      <th>35883</th>\n",
              "      <td>3</td>\n",
              "      <td>178 174 172 173 181 188 191 194 196 199 200 20...</td>\n",
              "      <td>PrivateTest</td>\n",
              "    </tr>\n",
              "    <tr>\n",
              "      <th>35884</th>\n",
              "      <td>0</td>\n",
              "      <td>17 17 16 23 28 22 19 17 25 26 20 24 31 19 27 9...</td>\n",
              "      <td>PrivateTest</td>\n",
              "    </tr>\n",
              "    <tr>\n",
              "      <th>35885</th>\n",
              "      <td>3</td>\n",
              "      <td>30 28 28 29 31 30 42 68 79 81 77 67 67 71 63 6...</td>\n",
              "      <td>PrivateTest</td>\n",
              "    </tr>\n",
              "    <tr>\n",
              "      <th>35886</th>\n",
              "      <td>2</td>\n",
              "      <td>19 13 14 12 13 16 21 33 50 57 71 84 97 108 122...</td>\n",
              "      <td>PrivateTest</td>\n",
              "    </tr>\n",
              "  </tbody>\n",
              "</table>\n",
              "<p>35887 rows × 3 columns</p>\n",
              "</div>"
            ],
            "text/plain": [
              "       emotion                                             pixels        Usage\n",
              "0            0  70 80 82 72 58 58 60 63 54 58 60 48 89 115 121...     Training\n",
              "1            0  151 150 147 155 148 133 111 140 170 174 182 15...     Training\n",
              "2            2  231 212 156 164 174 138 161 173 182 200 106 38...     Training\n",
              "3            4  24 32 36 30 32 23 19 20 30 41 21 22 32 34 21 1...     Training\n",
              "4            6  4 0 0 0 0 0 0 0 0 0 0 0 3 15 23 28 48 50 58 84...     Training\n",
              "...        ...                                                ...          ...\n",
              "35882        6  50 36 17 22 23 29 33 39 34 37 37 37 39 43 48 5...  PrivateTest\n",
              "35883        3  178 174 172 173 181 188 191 194 196 199 200 20...  PrivateTest\n",
              "35884        0  17 17 16 23 28 22 19 17 25 26 20 24 31 19 27 9...  PrivateTest\n",
              "35885        3  30 28 28 29 31 30 42 68 79 81 77 67 67 71 63 6...  PrivateTest\n",
              "35886        2  19 13 14 12 13 16 21 33 50 57 71 84 97 108 122...  PrivateTest\n",
              "\n",
              "[35887 rows x 3 columns]"
            ]
          },
          "metadata": {
            "tags": []
          },
          "execution_count": 21
        }
      ]
    },
    {
      "cell_type": "code",
      "metadata": {
        "id": "prR_SJxiBA8U",
        "colab_type": "code",
        "colab": {
          "base_uri": "https://localhost:8080/",
          "height": 34
        },
        "outputId": "df4086bb-a7fb-4fcb-fd1a-755a89841b01"
      },
      "source": [
        "df.shape"
      ],
      "execution_count": null,
      "outputs": [
        {
          "output_type": "execute_result",
          "data": {
            "text/plain": [
              "(35887, 3)"
            ]
          },
          "metadata": {
            "tags": []
          },
          "execution_count": 22
        }
      ]
    },
    {
      "cell_type": "markdown",
      "metadata": {
        "id": "k39FElpEMVju",
        "colab_type": "text"
      },
      "source": [
        "## **Plotting emotion**"
      ]
    },
    {
      "cell_type": "code",
      "metadata": {
        "id": "ZidMumXvBzpr",
        "colab_type": "code",
        "colab": {
          "base_uri": "https://localhost:8080/",
          "height": 296
        },
        "outputId": "5dca35ad-5622-495b-ed70-04b02154e64d"
      },
      "source": [
        "\"\"\" matplotlib => to define size , sns => to use counterplot \"\"\"\n",
        "\n",
        "plt.figure(figsize=(9,4))\n",
        "sns.countplot(x='emotion', data=df)"
      ],
      "execution_count": null,
      "outputs": [
        {
          "output_type": "execute_result",
          "data": {
            "text/plain": [
              "<matplotlib.axes._subplots.AxesSubplot at 0x7fcd333b8d30>"
            ]
          },
          "metadata": {
            "tags": []
          },
          "execution_count": 23
        },
        {
          "output_type": "display_data",
          "data": {
            "image/png": "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\n",
            "text/plain": [
              "<Figure size 648x288 with 1 Axes>"
            ]
          },
          "metadata": {
            "tags": [],
            "needs_background": "light"
          }
        }
      ]
    },
    {
      "cell_type": "code",
      "metadata": {
        "id": "7qEMmC3ILEtp",
        "colab_type": "code",
        "colab": {
          "base_uri": "https://localhost:8080/",
          "height": 153
        },
        "outputId": "927affad-d1b7-4dcc-f584-7ebc7886d6cf"
      },
      "source": [
        "df['emotion'].value_counts()"
      ],
      "execution_count": null,
      "outputs": [
        {
          "output_type": "execute_result",
          "data": {
            "text/plain": [
              "3    8989\n",
              "6    6198\n",
              "4    6077\n",
              "2    5121\n",
              "0    4953\n",
              "5    4002\n",
              "1     547\n",
              "Name: emotion, dtype: int64"
            ]
          },
          "metadata": {
            "tags": []
          },
          "execution_count": 24
        }
      ]
    },
    {
      "cell_type": "markdown",
      "metadata": {
        "id": "Wah5ra4rMB0O",
        "colab_type": "text"
      },
      "source": [
        "* where ** 0=Angry, 1=Disgust, 2=Fear, 3=Happy, 4=Sad, 5=Surprise, 6=Neutral**"
      ]
    },
    {
      "cell_type": "markdown",
      "metadata": {
        "id": "iblqx4zrSuUY",
        "colab_type": "text"
      },
      "source": [
        "### Observation\n",
        "* for Digust we have about 547 images only very less. "
      ]
    },
    {
      "cell_type": "markdown",
      "metadata": {
        "id": "I4G1tEVgMnl0",
        "colab_type": "text"
      },
      "source": [
        "## **Plotting Usage**"
      ]
    },
    {
      "cell_type": "code",
      "metadata": {
        "id": "JL5-9TQJMAbi",
        "colab_type": "code",
        "colab": {
          "base_uri": "https://localhost:8080/",
          "height": 299
        },
        "outputId": "4ab89dbf-dc7d-4b0f-8961-d5c3d50848ea"
      },
      "source": [
        "plt.figure(figsize=(9,4))\n",
        "sns.countplot(x='Usage', data=df)"
      ],
      "execution_count": null,
      "outputs": [
        {
          "output_type": "execute_result",
          "data": {
            "text/plain": [
              "<matplotlib.axes._subplots.AxesSubplot at 0x7fcd332b23c8>"
            ]
          },
          "metadata": {
            "tags": []
          },
          "execution_count": 25
        },
        {
          "output_type": "display_data",
          "data": {
            "image/png": "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\n",
            "text/plain": [
              "<Figure size 648x288 with 1 Axes>"
            ]
          },
          "metadata": {
            "tags": [],
            "needs_background": "light"
          }
        }
      ]
    },
    {
      "cell_type": "code",
      "metadata": {
        "id": "bTzE2z-2Lpsh",
        "colab_type": "code",
        "colab": {
          "base_uri": "https://localhost:8080/",
          "height": 85
        },
        "outputId": "ff1d16a4-c894-4bbf-e5b7-ea366f344598"
      },
      "source": [
        "df['Usage'].value_counts()"
      ],
      "execution_count": null,
      "outputs": [
        {
          "output_type": "execute_result",
          "data": {
            "text/plain": [
              "Training       28709\n",
              "PrivateTest     3589\n",
              "PublicTest      3589\n",
              "Name: Usage, dtype: int64"
            ]
          },
          "metadata": {
            "tags": []
          },
          "execution_count": 26
        }
      ]
    },
    {
      "cell_type": "markdown",
      "metadata": {
        "id": "u_Xc1kb96J_I",
        "colab_type": "text"
      },
      "source": [
        " **Intuition**\n",
        "\n",
        "* % matplotlib inline ==> magic cmd to setup IPython to display and store figures in notebooks\n",
        "* dataframe ==>pd.read_csv() , .head(), .tail(), .shape\n",
        "* count ==>  sns.countplot(x=,df) -> for graphs  ; df[col].value_counts() -> to display count values\n"
      ]
    },
    {
      "cell_type": "markdown",
      "metadata": {
        "id": "hLpNo_Wi78C3",
        "colab_type": "text"
      },
      "source": [
        "# PreProcessing"
      ]
    },
    {
      "cell_type": "code",
      "metadata": {
        "id": "OshjJPMx95JF",
        "colab_type": "code",
        "colab": {}
      },
      "source": [
        "import cv2\n",
        "image_size=(48,48)"
      ],
      "execution_count": 20,
      "outputs": []
    },
    {
      "cell_type": "code",
      "metadata": {
        "id": "HRs4m6UvM7AO",
        "colab_type": "code",
        "colab": {}
      },
      "source": [
        "pixels = df['pixels'].tolist() # Converting the relevant column element into a list for each row\n",
        "width, height = 48, 48\n",
        "faces = []\n",
        "\n",
        "for pixel_sequence in pixels:\n",
        "  face = [int(pixel) for pixel in pixel_sequence.split(' ')] # Splitting the string by space character as a list\n",
        "  face = np.asarray(face).reshape(width, height) #converting the list to numpy array in size of 48*48\n",
        "  face = cv2.resize(face.astype('uint8'),image_size) #resize the image to have 48 cols (width) and 48 rows (height)\n",
        "  faces.append(face.astype('float32')) #makes the list of each images of 48*48 and their pixels in numpyarray form\n",
        "  \n",
        "faces = np.asarray(faces) #converting the list into numpy array\n",
        "faces = np.expand_dims(faces, -1) #Expand the shape of an array -1=last dimension => means color space\n",
        "emotions = pd.get_dummies(df['emotion']).to_numpy() #doing the one hot encoding type on emotions"
      ],
      "execution_count": null,
      "outputs": []
    },
    {
      "cell_type": "code",
      "metadata": {
        "id": "VPsO_9sn77EB",
        "colab_type": "code",
        "colab": {
          "base_uri": "https://localhost:8080/",
          "height": 850
        },
        "outputId": "e8f48f97-29d1-47dd-ed72-f41a24d1efb4"
      },
      "source": [
        "print(faces[0]) #Pixels after preprocessing"
      ],
      "execution_count": null,
      "outputs": [
        {
          "output_type": "stream",
          "text": [
            "[[[ 70.]\n",
            "  [ 80.]\n",
            "  [ 82.]\n",
            "  ...\n",
            "  [ 52.]\n",
            "  [ 43.]\n",
            "  [ 41.]]\n",
            "\n",
            " [[ 65.]\n",
            "  [ 61.]\n",
            "  [ 58.]\n",
            "  ...\n",
            "  [ 56.]\n",
            "  [ 52.]\n",
            "  [ 44.]]\n",
            "\n",
            " [[ 50.]\n",
            "  [ 43.]\n",
            "  [ 54.]\n",
            "  ...\n",
            "  [ 49.]\n",
            "  [ 56.]\n",
            "  [ 47.]]\n",
            "\n",
            " ...\n",
            "\n",
            " [[ 91.]\n",
            "  [ 65.]\n",
            "  [ 42.]\n",
            "  ...\n",
            "  [ 72.]\n",
            "  [ 56.]\n",
            "  [ 43.]]\n",
            "\n",
            " [[ 77.]\n",
            "  [ 82.]\n",
            "  [ 79.]\n",
            "  ...\n",
            "  [105.]\n",
            "  [ 70.]\n",
            "  [ 46.]]\n",
            "\n",
            " [[ 77.]\n",
            "  [ 72.]\n",
            "  [ 84.]\n",
            "  ...\n",
            "  [106.]\n",
            "  [109.]\n",
            "  [ 82.]]]\n"
          ],
          "name": "stdout"
        }
      ]
    },
    {
      "cell_type": "code",
      "metadata": {
        "id": "s2JENcOV_nXJ",
        "colab_type": "code",
        "colab": {
          "base_uri": "https://localhost:8080/",
          "height": 68
        },
        "outputId": "9d946358-ded7-4489-c937-28b8208204de"
      },
      "source": [
        "print(faces.shape)\n",
        "print(faces[0].ndim)\n",
        "print(type(faces))"
      ],
      "execution_count": null,
      "outputs": [
        {
          "output_type": "stream",
          "text": [
            "(35887, 48, 48, 1)\n",
            "3\n",
            "<class 'numpy.ndarray'>\n"
          ],
          "name": "stdout"
        }
      ]
    },
    {
      "cell_type": "code",
      "metadata": {
        "id": "yeQMsBoR-Y4d",
        "colab_type": "code",
        "colab": {
          "base_uri": "https://localhost:8080/",
          "height": 34
        },
        "outputId": "d68aeb8b-f592-48aa-dd0d-8018b88a1572"
      },
      "source": [
        "print(emotions[0]) #Emotion after preprocessing"
      ],
      "execution_count": null,
      "outputs": [
        {
          "output_type": "stream",
          "text": [
            "[1 0 0 0 0 0 0]\n"
          ],
          "name": "stdout"
        }
      ]
    },
    {
      "cell_type": "code",
      "metadata": {
        "id": "WOO-ZRSf-hgt",
        "colab_type": "code",
        "colab": {
          "base_uri": "https://localhost:8080/",
          "height": 68
        },
        "outputId": "25f89382-4486-4098-a635-f66ae1dfd196"
      },
      "source": [
        "print(emotions.shape)\n",
        "print(emotions.ndim)\n",
        "print(type(emotions))"
      ],
      "execution_count": null,
      "outputs": [
        {
          "output_type": "stream",
          "text": [
            "(35887, 7)\n",
            "2\n",
            "<class 'numpy.ndarray'>\n"
          ],
          "name": "stdout"
        }
      ]
    },
    {
      "cell_type": "markdown",
      "metadata": {
        "id": "kj9OqVepeZ2E",
        "colab_type": "text"
      },
      "source": [
        "**Intuition**\n",
        "* Pandas series(or col of dataframe) to list => tolist() =>gives list of string of values->each string is a image\n",
        "* split each string(image) in list and cvt them into list of list of integers\n",
        "* convert list into numpy array =>np.asarray(list)\n",
        "* numpy array has reshape(width,height) \n",
        "* cv2 has resize(nparray, (size)) -->cvt image into uint8(unsigned 8 bit integer) -> has range [0,255]\n",
        "  1. uint16 => [0,65535]\n",
        "  2. uint32 => 32 bit or 4 bytes => [0, 2^32]\n",
        "  3. float => [-1,1] or [0,1]\n",
        "  4. int8 => [-128, 127]\n",
        "  5. int =>  [-2^31 , 2^31 -1] \n",
        "* images => ntg but numpy array\n",
        "* openCV has 3 dimensions => width,height, color => color space = BGR ; dtype => by default uint8\n",
        "* reshape returns a copy [ doesn't change values] whereas resize changes the values[not return a copy]\n",
        "* np.expand_dims => inserts new axis => ntg but boxes(just think for convenience) => to increase dimensions => to expand shape\n",
        "  1. axis= 0 -> box to all values ; axis =1 -> boxes to each individual values\n",
        "  2. example , (2,1,2) =>[ [[[],[]]],[[[],[]]] ] => list has 2 boxes - each box has 1 box - inside that each 1 box has 2 boxes --> in general box is a list or value\n",
        "* pd.get_dummies => convert pd series into dummy coded dataframes or indicator variables. => categorical var into indicators vars. => s.no(row names) * values(cols names) - 0,1 values.\n",
        "* numpy.asmatrix(data,dtype) => interpret input as a matrix => doesn't return a copy of matrix if given input is a matrix.\n",
        "  1. In list[0][1] =>In numpy[0,1] -> means In first box 2nd ele.\n",
        "*pd.df.to_numpy() => converts pandas dataframe into numpy array -> ndarray - usally 2 dim ->\n",
        "  1. dataframe -> some kind of tabular format with some indexes. ; numpy array -> some kind of lists of lists\n",
        "  2."
      ]
    },
    {
      "cell_type": "markdown",
      "metadata": {
        "id": "GL78P7u0I1Hp",
        "colab_type": "text"
      },
      "source": [
        "# Splitting the dataset"
      ]
    },
    {
      "cell_type": "markdown",
      "metadata": {
        "id": "28T5zBUCUn4j",
        "colab_type": "text"
      },
      "source": [
        "## Scaling the pixels between -1 and 1"
      ]
    },
    {
      "cell_type": "code",
      "metadata": {
        "id": "E2MJ1pnPJCyP",
        "colab_type": "code",
        "colab": {}
      },
      "source": [
        "x = faces.astype('float32')\n",
        "x = x / 255.0 #Dividing the pixels by 255 for normalization  => range(0,1)\n",
        "\n",
        "# Scaling the pixels value in range(-1,1)\n",
        "x = x - 0.5\n",
        "x = x * 2.0"
      ],
      "execution_count": null,
      "outputs": []
    },
    {
      "cell_type": "code",
      "metadata": {
        "id": "foWH2FX3JErZ",
        "colab_type": "code",
        "colab": {
          "base_uri": "https://localhost:8080/",
          "height": 850
        },
        "outputId": "6beda3b8-2474-47b7-e1ab-e9ffbe109903"
      },
      "source": [
        "print(x[0])"
      ],
      "execution_count": null,
      "outputs": [
        {
          "output_type": "stream",
          "text": [
            "[[[-0.45098037]\n",
            "  [-0.372549  ]\n",
            "  [-0.35686272]\n",
            "  ...\n",
            "  [-0.5921569 ]\n",
            "  [-0.6627451 ]\n",
            "  [-0.6784314 ]]\n",
            "\n",
            " [[-0.49019605]\n",
            "  [-0.52156866]\n",
            "  [-0.54509807]\n",
            "  ...\n",
            "  [-0.56078434]\n",
            "  [-0.5921569 ]\n",
            "  [-0.654902  ]]\n",
            "\n",
            " [[-0.60784316]\n",
            "  [-0.6627451 ]\n",
            "  [-0.5764706 ]\n",
            "  ...\n",
            "  [-0.6156863 ]\n",
            "  [-0.56078434]\n",
            "  [-0.6313726 ]]\n",
            "\n",
            " ...\n",
            "\n",
            " [[-0.2862745 ]\n",
            "  [-0.49019605]\n",
            "  [-0.67058825]\n",
            "  ...\n",
            "  [-0.4352941 ]\n",
            "  [-0.56078434]\n",
            "  [-0.6627451 ]]\n",
            "\n",
            " [[-0.3960784 ]\n",
            "  [-0.35686272]\n",
            "  [-0.38039213]\n",
            "  ...\n",
            "  [-0.17647058]\n",
            "  [-0.45098037]\n",
            "  [-0.6392157 ]]\n",
            "\n",
            " [[-0.3960784 ]\n",
            "  [-0.4352941 ]\n",
            "  [-0.34117645]\n",
            "  ...\n",
            "  [-0.16862744]\n",
            "  [-0.14509803]\n",
            "  [-0.35686272]]]\n"
          ],
          "name": "stdout"
        }
      ]
    },
    {
      "cell_type": "code",
      "metadata": {
        "id": "b_QhWHs_JGMx",
        "colab_type": "code",
        "colab": {
          "base_uri": "https://localhost:8080/",
          "height": 34
        },
        "outputId": "7af78ebf-4fbb-432d-ddeb-f784d0eea509"
      },
      "source": [
        "type(x)"
      ],
      "execution_count": null,
      "outputs": [
        {
          "output_type": "execute_result",
          "data": {
            "text/plain": [
              "numpy.ndarray"
            ]
          },
          "metadata": {
            "tags": []
          },
          "execution_count": 35
        }
      ]
    },
    {
      "cell_type": "code",
      "metadata": {
        "id": "8F5u4B83NKFy",
        "colab_type": "code",
        "colab": {
          "base_uri": "https://localhost:8080/",
          "height": 269
        },
        "outputId": "8804c429-f539-486f-e01d-0afa62f7a319"
      },
      "source": [
        "plt.plot(x[0,0])\n",
        "plt.show()"
      ],
      "execution_count": null,
      "outputs": [
        {
          "output_type": "display_data",
          "data": {
            "image/png": "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\n",
            "text/plain": [
              "<Figure size 432x288 with 1 Axes>"
            ]
          },
          "metadata": {
            "tags": [],
            "needs_background": "light"
          }
        }
      ]
    },
    {
      "cell_type": "code",
      "metadata": {
        "id": "Euq0pES3Ufv_",
        "colab_type": "code",
        "colab": {
          "base_uri": "https://localhost:8080/",
          "height": 34
        },
        "outputId": "3c2a1ccc-051e-4ce0-fb47-2c4fbad5543f"
      },
      "source": [
        "print(x.min(),x.max()) # we can observe that pixels are scale"
      ],
      "execution_count": null,
      "outputs": [
        {
          "output_type": "stream",
          "text": [
            "-1.0 1.0\n"
          ],
          "name": "stdout"
        }
      ]
    },
    {
      "cell_type": "markdown",
      "metadata": {
        "id": "AZARK_oB_IuF",
        "colab_type": "text"
      },
      "source": [
        "## Splitting the dataset into train & validation set"
      ]
    },
    {
      "cell_type": "code",
      "metadata": {
        "id": "0oIyb2zMU2sj",
        "colab_type": "code",
        "colab": {}
      },
      "source": [
        "num_samples, num_classes = emotions.shape\n",
        "\n",
        "num_samples = len(x)\n",
        "num_train_samples = int((1 - 0.2)*num_samples)\n",
        "\n",
        "# Traning data\n",
        "train_x = x[:num_train_samples]\n",
        "train_y = emotions[:num_train_samples]\n",
        "\n",
        "# Validation data\n",
        "val_x = x[num_train_samples:]\n",
        "val_y = emotions[num_train_samples:]\n",
        "\n",
        "train_data = (train_x, train_y)\n",
        "val_data = (val_x, val_y)"
      ],
      "execution_count": null,
      "outputs": []
    },
    {
      "cell_type": "code",
      "metadata": {
        "id": "oBtesONJWvDY",
        "colab_type": "code",
        "colab": {
          "base_uri": "https://localhost:8080/",
          "height": 85
        },
        "outputId": "59b1c001-692f-4e86-f641-a01be111402f"
      },
      "source": [
        "print('Training Pixels',train_x.shape)  # ==> 4 dims -  no of images , width , height , color\n",
        "print('Training labels',train_y.shape)\n",
        "\n",
        "print('Validation Pixels',val_x.shape)\n",
        "print('Validation labels',val_y.shape)"
      ],
      "execution_count": null,
      "outputs": [
        {
          "output_type": "stream",
          "text": [
            "Training Pixels (28709, 48, 48, 1)\n",
            "Training labels (28709, 7)\n",
            "Validation Pixels (7178, 48, 48, 1)\n",
            "Validation labels (7178, 7)\n"
          ],
          "name": "stdout"
        }
      ]
    },
    {
      "cell_type": "markdown",
      "metadata": {
        "id": "b3u-V2UMmKTI",
        "colab_type": "text"
      },
      "source": [
        "* shape => returns no of samples , classes ; len => no of samples\n",
        "* training -> x = x[: 0.8*no_of_samples] , y = y[: 0.8*no_of_samples]     ---> take the benefit of slicing\n",
        "* validation -> x = x[ 0.8*no_of_samples  : ] , y = y[ 0.8*no_of_samples  : ]\n",
        "* data = (x,y)\n",
        "\n",
        "* take benefit of type(), print() --> for checking"
      ]
    },
    {
      "cell_type": "markdown",
      "metadata": {
        "id": "IyZvjJKTAMpx",
        "colab_type": "text"
      },
      "source": [
        "# Defining Model"
      ]
    },
    {
      "cell_type": "code",
      "metadata": {
        "id": "TKpD2mbkD3V0",
        "colab_type": "code",
        "colab": {}
      },
      "source": [
        "#load the libaray to built the model\n",
        "from keras.layers import Activation, Convolution2D, Dropout, Conv2D\n",
        "from keras.layers import AveragePooling2D, BatchNormalization\n",
        "from keras.layers import GlobalAveragePooling2D\n",
        "from keras.models import Sequential\n",
        "from keras.layers import Flatten\n",
        "from keras.models import Model\n",
        "from keras.layers import Input\n",
        "from keras.layers import MaxPooling2D\n",
        "from keras.layers import SeparableConv2D\n",
        "from keras import layers\n",
        "from keras.regularizers import l2"
      ],
      "execution_count": 21,
      "outputs": []
    },
    {
      "cell_type": "markdown",
      "metadata": {
        "id": "4f_8pLj1p85S",
        "colab_type": "text"
      },
      "source": [
        "* keras is a deep learning library => powerful easy to use library => high level API for tensorflow, Theano => wrapper\n",
        "* minimalistic , modular approach\n",
        "* obviously,oversimplification ->abstract representations of neural networks\n",
        "* import \n",
        "  1. Sequential => linear stack of NN layers -> feed forward cnn\n",
        "  2. layers -> for almost any nn\n",
        "  3. CNN layers -> convolution2D , maxpooling2D\n"
      ]
    },
    {
      "cell_type": "code",
      "metadata": {
        "id": "Jg7wHibYv2wF",
        "colab_type": "code",
        "colab": {
          "base_uri": "https://localhost:8080/",
          "height": 35
        },
        "outputId": "628f6660-4454-4595-92c6-8dc51129aebc"
      },
      "source": [
        "\"\"\"\n",
        "* keras.__version__\n",
        "* pip install --upgrade keras\n",
        "\"\"\""
      ],
      "execution_count": null,
      "outputs": [
        {
          "output_type": "execute_result",
          "data": {
            "application/vnd.google.colaboratory.intrinsic": {
              "type": "string"
            },
            "text/plain": [
              "'\\n* keras.__version__\\n* pip install --upgrade keras\\n'"
            ]
          },
          "metadata": {
            "tags": []
          },
          "execution_count": 41
        }
      ]
    },
    {
      "cell_type": "markdown",
      "metadata": {
        "id": "dyPOvVbXtSUi",
        "colab_type": "text"
      },
      "source": [
        "* Deep learning led to advances in computer vision\n",
        "* Neural networks learn more complex features from input image.\n",
        "  1. input layer => feeding input\n",
        "  2. first hidden layer =>  only learn local edge patterns\n",
        "  3. each subsequent layer => filters => learns more complex representations\n",
        "  4. classify\n",
        "\n",
        "* CNN => reduce no of parameters that need to be tuned => handle high dimensionality"
      ]
    },
    {
      "cell_type": "markdown",
      "metadata": {
        "id": "lni4RvfCDtgD",
        "colab_type": "text"
      },
      "source": [
        "# 1) Simpler CNN"
      ]
    },
    {
      "cell_type": "code",
      "metadata": {
        "id": "-h71E2cTFWOi",
        "colab_type": "code",
        "colab": {}
      },
      "source": [
        "input_shape=(48, 48, 1)\n",
        "num_classes = 7"
      ],
      "execution_count": null,
      "outputs": []
    },
    {
      "cell_type": "code",
      "metadata": {
        "id": "IgnHh0urDr7U",
        "colab_type": "code",
        "colab": {}
      },
      "source": [
        "\"\"\" Building up Model Architecture \"\"\"\n",
        "\n",
        "model = Sequential()\n",
        "model.add(Convolution2D(filters=16, kernel_size=(7, 7), padding='same',\n",
        "                            name='image_array', input_shape=input_shape))\n",
        "model.add(BatchNormalization())\n",
        "model.add(Convolution2D(filters=16, kernel_size=(7, 7), padding='same'))\n",
        "model.add(BatchNormalization())\n",
        "model.add(Activation('relu'))\n",
        "model.add(AveragePooling2D(pool_size=(2, 2), padding='same'))\n",
        "model.add(Dropout(.5))\n",
        "\n",
        "model.add(Convolution2D(filters=32, kernel_size=(5, 5), padding='same'))\n",
        "model.add(BatchNormalization())\n",
        "model.add(Convolution2D(filters=32, kernel_size=(5, 5), padding='same'))\n",
        "model.add(BatchNormalization())\n",
        "model.add(Activation('relu'))\n",
        "model.add(AveragePooling2D(pool_size=(2, 2), padding='same'))\n",
        "model.add(Dropout(.5))\n",
        "\n",
        "model.add(Convolution2D(filters=64, kernel_size=(3, 3), padding='same'))\n",
        "model.add(BatchNormalization())\n",
        "model.add(Convolution2D(filters=64, kernel_size=(3, 3), padding='same'))\n",
        "model.add(BatchNormalization())\n",
        "model.add(Activation('relu'))\n",
        "model.add(AveragePooling2D(pool_size=(2, 2), padding='same'))\n",
        "model.add(Dropout(.5))\n",
        "\n",
        "model.add(Convolution2D(filters=128, kernel_size=(3, 3), padding='same'))\n",
        "model.add(BatchNormalization())\n",
        "model.add(Convolution2D(filters=128, kernel_size=(3, 3), padding='same'))\n",
        "model.add(BatchNormalization())\n",
        "model.add(Activation('relu'))\n",
        "model.add(AveragePooling2D(pool_size=(2, 2), padding='same'))\n",
        "model.add(Dropout(.5))\n",
        "\n",
        "model.add(Convolution2D(filters=256, kernel_size=(3, 3), padding='same'))\n",
        "\n",
        "\n",
        "\n",
        "model.add(BatchNormalization())\n",
        "model.add(Convolution2D(filters=num_classes, kernel_size=(3, 3), padding='same'))\n",
        "model.add(GlobalAveragePooling2D())\n",
        "model.add(Activation('softmax',name='predictions'))\n",
        "\n"
      ],
      "execution_count": null,
      "outputs": []
    },
    {
      "cell_type": "markdown",
      "metadata": {
        "id": "mOB8szvd_tfd",
        "colab_type": "text"
      },
      "source": [
        " # **Intuition**\n",
        "\n",
        "\n",
        "---\n",
        "\n",
        "\n",
        "\n",
        "* **Convolution** => matrix multiplication with filter -> feature detector\n",
        "  * Convolution2d => for filtering windows of 2 dimensional input -> if 1st layer = input_shape\n",
        "* filters = windows ; 2 dim filter => sliding window\n",
        "* sliding window slides over each channel and summarising the features.\n",
        "*  **batch normalisation** => used to stabilise perhaps accelerate learning process => standardise layer inputs => by applying transformation that maintains mean activation close to 0 and activation standard deviation(sq root of variance ---> how far) close to 1.\n",
        "  1. normalisation => process tend to follow bell shape curve known as normal distribution\n",
        "  2. backpropagation => updated layer by layer backward from output to the input using estimate of error that assumes weights in the layer prior to the current layer are fixed.\n",
        "  3. gradient tells how to update each parameter under the assumption that other layers do not change. \n",
        "  4. all layers changes during an update --> this update procedure leads to forever chasing a moving target.\n",
        "  5. batch normalisation => technique to coordinate the update  of multiple layers in the model => reparametrization of network\n",
        "  6. its about standardize the mean and variance of each unit in normal dist\n",
        "  7. its all about standardixeing inputs to layers for each mini batch\n",
        "\n",
        "* **Activation(ReLu)**: activation layer( non linear layer) \n",
        "  1. convention is to apply after conv layer\n",
        "  2. to introduce non linearity to a system that has computed linear operations in conv\n",
        "  3. Rectified linear unit => widely used  than non linear functions(sigmoid, tanh) for its fast training with out accuracy. => max(0,x)\n",
        "  4. Relu also alleviates vanishing gradient (lower layers of network trains very slowly because the gradient decreases slowly throught layers.\n",
        "  5. without these non linear functions(activation functions) , the network would be a large linear classifier that could simplified by multiplying weight matrices(accounting for bais) . It wouldn't do anything interesting such as image classification etc..\n",
        "* **Pooling** => max, avg ,globalmax, globalavg\n",
        "  1. conv > activation > pooling\n",
        "  2.to reduce dimensions of feature map => reduces parameters to learn and amt of computations\n",
        "  3. it further summarizes the feature map  instead of precisely positioned features generated by conv layer. This makes model more robust to variations in the position of features in image\n",
        "  4.when network wants to detect higher level features from low level building blocks (detecting corners from edges) . we dont need a rigid about exact position => we need translational invariance at the feature level . so insert pooling\n",
        "  5. overcomes the problem of sensitive to the location of the features.\n",
        "  6. local translation invariance\n",
        "\n",
        "*  **Dropout** => regularization technique\n",
        "  1.neurons are randomly dropped while training\n",
        "  2. this effect makes network less sensitive to thespecific weights of neurons \n",
        "  3. better generalization - less overfit\n",
        "\n",
        "\n",
        "---\n",
        "**Functions:**\n",
        "* convolution2d => no of filters or kernels , kernal size , padding => same(zero padding) , valid (no padding) for input ; stride = step or movement of kernel. ; if 1st layer -> input_shape\n",
        "* BatchNormalisation => no args \n",
        "* Activation => func name\n",
        "* AveragePooling2D => 2D means 2 dimensional feature map ; kernel size , padding\n",
        "* Dropout => % of drop of neurons \n",
        "* AT output , convolution2d --> filters = no of classes ; activation --> softmax\n",
        "\n"
      ]
    },
    {
      "cell_type": "code",
      "metadata": {
        "id": "l1DSW_zoN1hg",
        "colab_type": "code",
        "colab": {
          "base_uri": "https://localhost:8080/",
          "height": 1000
        },
        "outputId": "5bf2c2fd-78fe-44c1-8822-66a5bb757216"
      },
      "source": [
        "model.summary()"
      ],
      "execution_count": null,
      "outputs": [
        {
          "output_type": "stream",
          "text": [
            "Model: \"sequential_1\"\n",
            "_________________________________________________________________\n",
            "Layer (type)                 Output Shape              Param #   \n",
            "=================================================================\n",
            "image_array (Conv2D)         (None, 48, 48, 16)        800       \n",
            "_________________________________________________________________\n",
            "batch_normalization_1 (Batch (None, 48, 48, 16)        64        \n",
            "_________________________________________________________________\n",
            "conv2d_1 (Conv2D)            (None, 48, 48, 16)        12560     \n",
            "_________________________________________________________________\n",
            "batch_normalization_2 (Batch (None, 48, 48, 16)        64        \n",
            "_________________________________________________________________\n",
            "activation_1 (Activation)    (None, 48, 48, 16)        0         \n",
            "_________________________________________________________________\n",
            "average_pooling2d_1 (Average (None, 24, 24, 16)        0         \n",
            "_________________________________________________________________\n",
            "dropout_1 (Dropout)          (None, 24, 24, 16)        0         \n",
            "_________________________________________________________________\n",
            "conv2d_2 (Conv2D)            (None, 24, 24, 32)        12832     \n",
            "_________________________________________________________________\n",
            "batch_normalization_3 (Batch (None, 24, 24, 32)        128       \n",
            "_________________________________________________________________\n",
            "conv2d_3 (Conv2D)            (None, 24, 24, 32)        25632     \n",
            "_________________________________________________________________\n",
            "batch_normalization_4 (Batch (None, 24, 24, 32)        128       \n",
            "_________________________________________________________________\n",
            "activation_2 (Activation)    (None, 24, 24, 32)        0         \n",
            "_________________________________________________________________\n",
            "average_pooling2d_2 (Average (None, 12, 12, 32)        0         \n",
            "_________________________________________________________________\n",
            "dropout_2 (Dropout)          (None, 12, 12, 32)        0         \n",
            "_________________________________________________________________\n",
            "conv2d_4 (Conv2D)            (None, 12, 12, 64)        18496     \n",
            "_________________________________________________________________\n",
            "batch_normalization_5 (Batch (None, 12, 12, 64)        256       \n",
            "_________________________________________________________________\n",
            "conv2d_5 (Conv2D)            (None, 12, 12, 64)        36928     \n",
            "_________________________________________________________________\n",
            "batch_normalization_6 (Batch (None, 12, 12, 64)        256       \n",
            "_________________________________________________________________\n",
            "activation_3 (Activation)    (None, 12, 12, 64)        0         \n",
            "_________________________________________________________________\n",
            "average_pooling2d_3 (Average (None, 6, 6, 64)          0         \n",
            "_________________________________________________________________\n",
            "dropout_3 (Dropout)          (None, 6, 6, 64)          0         \n",
            "_________________________________________________________________\n",
            "conv2d_6 (Conv2D)            (None, 6, 6, 128)         73856     \n",
            "_________________________________________________________________\n",
            "batch_normalization_7 (Batch (None, 6, 6, 128)         512       \n",
            "_________________________________________________________________\n",
            "conv2d_7 (Conv2D)            (None, 6, 6, 128)         147584    \n",
            "_________________________________________________________________\n",
            "batch_normalization_8 (Batch (None, 6, 6, 128)         512       \n",
            "_________________________________________________________________\n",
            "activation_4 (Activation)    (None, 6, 6, 128)         0         \n",
            "_________________________________________________________________\n",
            "average_pooling2d_4 (Average (None, 3, 3, 128)         0         \n",
            "_________________________________________________________________\n",
            "dropout_4 (Dropout)          (None, 3, 3, 128)         0         \n",
            "_________________________________________________________________\n",
            "conv2d_8 (Conv2D)            (None, 3, 3, 256)         295168    \n",
            "_________________________________________________________________\n",
            "batch_normalization_9 (Batch (None, 3, 3, 256)         1024      \n",
            "_________________________________________________________________\n",
            "conv2d_9 (Conv2D)            (None, 3, 3, 7)           16135     \n",
            "_________________________________________________________________\n",
            "global_average_pooling2d_1 ( (None, 7)                 0         \n",
            "_________________________________________________________________\n",
            "predictions (Activation)     (None, 7)                 0         \n",
            "=================================================================\n",
            "Total params: 642,935\n",
            "Trainable params: 641,463\n",
            "Non-trainable params: 1,472\n",
            "_________________________________________________________________\n"
          ],
          "name": "stdout"
        }
      ]
    },
    {
      "cell_type": "code",
      "metadata": {
        "id": "qS2a73LMMXsF",
        "colab_type": "code",
        "colab": {}
      },
      "source": [
        "# parameters\n",
        "batch_size = 32 #Number of samples per gradient update\n",
        "num_epochs = 200 # Number of epochs to train the model.\n",
        "#input_shape = (64, 64, 1)\n",
        "verbose = 1 #per epohs  progress bar\n",
        "num_classes = 7 \n",
        "patience = 50\n",
        "base_path = 'drive/Colab Notebooks/emotion/simplecnn/'"
      ],
      "execution_count": null,
      "outputs": []
    },
    {
      "cell_type": "code",
      "metadata": {
        "id": "oZGzV6XKVkmr",
        "colab_type": "code",
        "colab": {}
      },
      "source": [
        "from keras.callbacks import CSVLogger, ModelCheckpoint, EarlyStopping\n",
        "from keras.callbacks import ReduceLROnPlateau\n",
        "from keras.preprocessing.image import ImageDataGenerator"
      ],
      "execution_count": 8,
      "outputs": []
    },
    {
      "cell_type": "markdown",
      "metadata": {
        "id": "fIB613fzVrlK",
        "colab_type": "text"
      },
      "source": [
        "## Data Augmenttion"
      ]
    },
    {
      "cell_type": "code",
      "metadata": {
        "id": "G0vSiW0aVWoi",
        "colab_type": "code",
        "colab": {}
      },
      "source": [
        "\"\"\" Data Augmentation => taking the batch and apply some series of random transformations (random rotation, resizing, shearing) \n",
        "\n",
        "      ===> to increase generalizability of model  \"\"\"\n",
        "\n",
        "\n",
        "# data generator Generate batches of tensor image data with real-time data augmentation\n",
        "data_generator = ImageDataGenerator(\n",
        "                        featurewise_center=False,\n",
        "                        featurewise_std_normalization=False,\n",
        "                        rotation_range=10,\n",
        "                        width_shift_range=0.1,\n",
        "                        height_shift_range=0.1,\n",
        "                        zoom_range=.1,\n",
        "                        horizontal_flip=True)"
      ],
      "execution_count": null,
      "outputs": []
    },
    {
      "cell_type": "markdown",
      "metadata": {
        "id": "LIW7y7yWkwJ3",
        "colab_type": "text"
      },
      "source": [
        "**ImageDataGenerator**\n",
        "* horizontal and vertical shift => moving all pixels of image in one direction \n",
        "  1. width_shift_range ( horizonatal shift)\n",
        "  2. height_shift_range (vertical shift)\n",
        "  3. floating num [0- 1] --> % of shift\n",
        "\n",
        "* horizontal n vertical flips augmentation ==>reversing rows or cols of pixels  --> True or False\n",
        "* Random rotation  --> 0 - 360 degrees --> rotation_range = 90 ==> means random rotation to image blw 0 and 90 degrees\n",
        "* random  brightness --> randomly darkens or brightens images ==> brightness_range =[0.2,1.0] --> means darkens or brightens if pixel is blw 0.2 and 1\n",
        "* random zoom\n",
        "  1. either adds pixel or subtract pixels in image . [1-value, 1+value] \n",
        "  2. for example , zoom_range = .3 --> range [0.7, 1.3] or blw 70%(zoom in) and 130% (zoomout)\n",
        "\n",
        "---\n",
        "when an object is created using following args. an iterator can be created for an image dataset. \n",
        "* it iterates through all images in memory --> obj.flow(X,y)\n",
        "* to iterates images through subdirectories --> obj. flow_from_directory(X,y,..)\n",
        "* to train ==> fit_generator() "
      ]
    },
    {
      "cell_type": "code",
      "metadata": {
        "id": "oeF9vG6oWMB6",
        "colab_type": "code",
        "colab": {
          "base_uri": "https://localhost:8080/",
          "height": 1000
        },
        "outputId": "b68c3b98-06c1-46d3-951c-af8531bd75c1"
      },
      "source": [
        "# model parameters/compilation\n",
        "\n",
        "\"\"\" CONFIGURATION ==>.compile(optimizer, loss , metrics) \"\"\"\n",
        "\n",
        "\n",
        "\n",
        "model.compile(optimizer='adam', loss='categorical_crossentropy',\n",
        "              metrics=['accuracy'])\n",
        "model.summary()\n"
      ],
      "execution_count": null,
      "outputs": [
        {
          "output_type": "stream",
          "text": [
            "Model: \"sequential_1\"\n",
            "_________________________________________________________________\n",
            "Layer (type)                 Output Shape              Param #   \n",
            "=================================================================\n",
            "image_array (Conv2D)         (None, 48, 48, 16)        800       \n",
            "_________________________________________________________________\n",
            "batch_normalization_1 (Batch (None, 48, 48, 16)        64        \n",
            "_________________________________________________________________\n",
            "conv2d_1 (Conv2D)            (None, 48, 48, 16)        12560     \n",
            "_________________________________________________________________\n",
            "batch_normalization_2 (Batch (None, 48, 48, 16)        64        \n",
            "_________________________________________________________________\n",
            "activation_1 (Activation)    (None, 48, 48, 16)        0         \n",
            "_________________________________________________________________\n",
            "average_pooling2d_1 (Average (None, 24, 24, 16)        0         \n",
            "_________________________________________________________________\n",
            "dropout_1 (Dropout)          (None, 24, 24, 16)        0         \n",
            "_________________________________________________________________\n",
            "conv2d_2 (Conv2D)            (None, 24, 24, 32)        12832     \n",
            "_________________________________________________________________\n",
            "batch_normalization_3 (Batch (None, 24, 24, 32)        128       \n",
            "_________________________________________________________________\n",
            "conv2d_3 (Conv2D)            (None, 24, 24, 32)        25632     \n",
            "_________________________________________________________________\n",
            "batch_normalization_4 (Batch (None, 24, 24, 32)        128       \n",
            "_________________________________________________________________\n",
            "activation_2 (Activation)    (None, 24, 24, 32)        0         \n",
            "_________________________________________________________________\n",
            "average_pooling2d_2 (Average (None, 12, 12, 32)        0         \n",
            "_________________________________________________________________\n",
            "dropout_2 (Dropout)          (None, 12, 12, 32)        0         \n",
            "_________________________________________________________________\n",
            "conv2d_4 (Conv2D)            (None, 12, 12, 64)        18496     \n",
            "_________________________________________________________________\n",
            "batch_normalization_5 (Batch (None, 12, 12, 64)        256       \n",
            "_________________________________________________________________\n",
            "conv2d_5 (Conv2D)            (None, 12, 12, 64)        36928     \n",
            "_________________________________________________________________\n",
            "batch_normalization_6 (Batch (None, 12, 12, 64)        256       \n",
            "_________________________________________________________________\n",
            "activation_3 (Activation)    (None, 12, 12, 64)        0         \n",
            "_________________________________________________________________\n",
            "average_pooling2d_3 (Average (None, 6, 6, 64)          0         \n",
            "_________________________________________________________________\n",
            "dropout_3 (Dropout)          (None, 6, 6, 64)          0         \n",
            "_________________________________________________________________\n",
            "conv2d_6 (Conv2D)            (None, 6, 6, 128)         73856     \n",
            "_________________________________________________________________\n",
            "batch_normalization_7 (Batch (None, 6, 6, 128)         512       \n",
            "_________________________________________________________________\n",
            "conv2d_7 (Conv2D)            (None, 6, 6, 128)         147584    \n",
            "_________________________________________________________________\n",
            "batch_normalization_8 (Batch (None, 6, 6, 128)         512       \n",
            "_________________________________________________________________\n",
            "activation_4 (Activation)    (None, 6, 6, 128)         0         \n",
            "_________________________________________________________________\n",
            "average_pooling2d_4 (Average (None, 3, 3, 128)         0         \n",
            "_________________________________________________________________\n",
            "dropout_4 (Dropout)          (None, 3, 3, 128)         0         \n",
            "_________________________________________________________________\n",
            "conv2d_8 (Conv2D)            (None, 3, 3, 256)         295168    \n",
            "_________________________________________________________________\n",
            "batch_normalization_9 (Batch (None, 3, 3, 256)         1024      \n",
            "_________________________________________________________________\n",
            "conv2d_9 (Conv2D)            (None, 3, 3, 7)           16135     \n",
            "_________________________________________________________________\n",
            "global_average_pooling2d_1 ( (None, 7)                 0         \n",
            "_________________________________________________________________\n",
            "predictions (Activation)     (None, 7)                 0         \n",
            "=================================================================\n",
            "Total params: 642,935\n",
            "Trainable params: 641,463\n",
            "Non-trainable params: 1,472\n",
            "_________________________________________________________________\n"
          ],
          "name": "stdout"
        }
      ]
    },
    {
      "cell_type": "code",
      "metadata": {
        "id": "EZP8riBlO4mS",
        "colab_type": "code",
        "colab": {
          "base_uri": "https://localhost:8080/",
          "height": 1000
        },
        "outputId": "8ab48817-fcb3-4507-df52-97b59527b165"
      },
      "source": [
        "datasets = ['fer2013']\n",
        "num_epochs = 30\n",
        "base_path=\"/content\"\n",
        "for dataset_name in datasets:\n",
        "    print('Training dataset:', dataset_name)\n",
        "\n",
        "    #callbacks\n",
        "    log_file_path = dataset_name + '_emotion_training.log'\n",
        "\n",
        "    csv_logger = CSVLogger(log_file_path, append=False)\n",
        "    early_stop = EarlyStopping('val_loss', patience=patience)\n",
        "    reduce_lr = ReduceLROnPlateau('val_loss', factor=0.1,patience=int(patience/4), verbose=1)\n",
        "    \n",
        "    trained_models_path = base_path + dataset_name + 'simple_cnn'\n",
        "    model_names = trained_models_path + '.{epoch:02d}-{val_loss:.2f}.hdf5'      # if error \"acc\" in 1 line ... don't confuse check entire block since fit() generates a inner loop\n",
        "    model_checkpoint = ModelCheckpoint(model_names, 'val_loss', verbose=1,save_best_only=True)\n",
        "    my_callbacks = [model_checkpoint, csv_logger, early_stop, reduce_lr]\n",
        "\n",
        "    # loading dataset\n",
        "    train_faces, train_emotions = train_data\n",
        "    history=model.fit_generator(data_generator.flow(train_faces, train_emotions,\n",
        "                                            batch_size),\n",
        "                        epochs=num_epochs, verbose=1\n",
        "                        ,callbacks=my_callbacks,validation_data =val_data)   #not callbacks = [my_callbacks] since we my_callbacks is already a list "
      ],
      "execution_count": null,
      "outputs": [
        {
          "output_type": "stream",
          "text": [
            "Training dataset: fer2013\n",
            "Epoch 1/30\n",
            "898/898 [==============================] - 37s 41ms/step - loss: 1.7446 - accuracy: 0.3049 - val_loss: 1.6654 - val_accuracy: 0.3469\n",
            "\n",
            "Epoch 00001: val_loss improved from inf to 1.66542, saving model to /contentfer2013simple_cnn.01-1.67.hdf5\n",
            "Epoch 2/30\n",
            "898/898 [==============================] - 27s 30ms/step - loss: 1.6229 - accuracy: 0.3599 - val_loss: 1.5122 - val_accuracy: 0.4136\n",
            "\n",
            "Epoch 00002: val_loss improved from 1.66542 to 1.51218, saving model to /contentfer2013simple_cnn.02-1.51.hdf5\n",
            "Epoch 3/30\n",
            "898/898 [==============================] - 27s 30ms/step - loss: 1.5591 - accuracy: 0.3882 - val_loss: 1.4288 - val_accuracy: 0.4473\n",
            "\n",
            "Epoch 00003: val_loss improved from 1.51218 to 1.42880, saving model to /contentfer2013simple_cnn.03-1.43.hdf5\n",
            "Epoch 4/30\n",
            "898/898 [==============================] - 27s 30ms/step - loss: 1.5137 - accuracy: 0.4102 - val_loss: 1.3665 - val_accuracy: 0.4759\n",
            "\n",
            "Epoch 00004: val_loss improved from 1.42880 to 1.36649, saving model to /contentfer2013simple_cnn.04-1.37.hdf5\n",
            "Epoch 5/30\n",
            "898/898 [==============================] - 27s 30ms/step - loss: 1.4730 - accuracy: 0.4316 - val_loss: 1.3454 - val_accuracy: 0.4852\n",
            "\n",
            "Epoch 00005: val_loss improved from 1.36649 to 1.34536, saving model to /contentfer2013simple_cnn.05-1.35.hdf5\n",
            "Epoch 6/30\n",
            "898/898 [==============================] - 27s 30ms/step - loss: 1.4482 - accuracy: 0.4409 - val_loss: 1.3031 - val_accuracy: 0.5021\n",
            "\n",
            "Epoch 00006: val_loss improved from 1.34536 to 1.30313, saving model to /contentfer2013simple_cnn.06-1.30.hdf5\n",
            "Epoch 7/30\n",
            "898/898 [==============================] - 26s 29ms/step - loss: 1.4202 - accuracy: 0.4541 - val_loss: 1.3007 - val_accuracy: 0.5079\n",
            "\n",
            "Epoch 00007: val_loss improved from 1.30313 to 1.30072, saving model to /contentfer2013simple_cnn.07-1.30.hdf5\n",
            "Epoch 8/30\n",
            "898/898 [==============================] - 26s 29ms/step - loss: 1.4081 - accuracy: 0.4610 - val_loss: 1.2745 - val_accuracy: 0.5052\n",
            "\n",
            "Epoch 00008: val_loss improved from 1.30072 to 1.27453, saving model to /contentfer2013simple_cnn.08-1.27.hdf5\n",
            "Epoch 9/30\n",
            "898/898 [==============================] - 26s 29ms/step - loss: 1.3888 - accuracy: 0.4678 - val_loss: 1.2456 - val_accuracy: 0.5255\n",
            "\n",
            "Epoch 00009: val_loss improved from 1.27453 to 1.24560, saving model to /contentfer2013simple_cnn.09-1.25.hdf5\n",
            "Epoch 10/30\n",
            "898/898 [==============================] - 27s 30ms/step - loss: 1.3702 - accuracy: 0.4759 - val_loss: 1.2763 - val_accuracy: 0.5163\n",
            "\n",
            "Epoch 00010: val_loss did not improve from 1.24560\n",
            "Epoch 11/30\n",
            "898/898 [==============================] - 26s 29ms/step - loss: 1.3630 - accuracy: 0.4778 - val_loss: 1.2710 - val_accuracy: 0.5162\n",
            "\n",
            "Epoch 00011: val_loss did not improve from 1.24560\n",
            "Epoch 12/30\n",
            "898/898 [==============================] - 26s 29ms/step - loss: 1.3511 - accuracy: 0.4833 - val_loss: 1.2702 - val_accuracy: 0.5181\n",
            "\n",
            "Epoch 00012: val_loss did not improve from 1.24560\n",
            "Epoch 13/30\n",
            "898/898 [==============================] - 26s 29ms/step - loss: 1.3365 - accuracy: 0.4922 - val_loss: 1.2123 - val_accuracy: 0.5337\n",
            "\n",
            "Epoch 00013: val_loss improved from 1.24560 to 1.21234, saving model to /contentfer2013simple_cnn.13-1.21.hdf5\n",
            "Epoch 14/30\n",
            "898/898 [==============================] - 26s 29ms/step - loss: 1.3364 - accuracy: 0.4879 - val_loss: 1.2081 - val_accuracy: 0.5422\n",
            "\n",
            "Epoch 00014: val_loss improved from 1.21234 to 1.20806, saving model to /contentfer2013simple_cnn.14-1.21.hdf5\n",
            "Epoch 15/30\n",
            "898/898 [==============================] - 26s 29ms/step - loss: 1.3291 - accuracy: 0.4931 - val_loss: 1.2064 - val_accuracy: 0.5357\n",
            "\n",
            "Epoch 00015: val_loss improved from 1.20806 to 1.20638, saving model to /contentfer2013simple_cnn.15-1.21.hdf5\n",
            "Epoch 16/30\n",
            "898/898 [==============================] - 26s 29ms/step - loss: 1.3167 - accuracy: 0.4967 - val_loss: 1.1628 - val_accuracy: 0.5606\n",
            "\n",
            "Epoch 00016: val_loss improved from 1.20638 to 1.16279, saving model to /contentfer2013simple_cnn.16-1.16.hdf5\n",
            "Epoch 17/30\n",
            "898/898 [==============================] - 27s 30ms/step - loss: 1.3130 - accuracy: 0.4991 - val_loss: 1.1738 - val_accuracy: 0.5500\n",
            "\n",
            "Epoch 00017: val_loss did not improve from 1.16279\n",
            "Epoch 18/30\n",
            "898/898 [==============================] - 26s 29ms/step - loss: 1.3083 - accuracy: 0.5014 - val_loss: 1.1813 - val_accuracy: 0.5481\n",
            "\n",
            "Epoch 00018: val_loss did not improve from 1.16279\n",
            "Epoch 19/30\n",
            "898/898 [==============================] - 26s 29ms/step - loss: 1.2999 - accuracy: 0.5035 - val_loss: 1.2064 - val_accuracy: 0.5298\n",
            "\n",
            "Epoch 00019: val_loss did not improve from 1.16279\n",
            "Epoch 20/30\n",
            "898/898 [==============================] - 26s 29ms/step - loss: 1.3074 - accuracy: 0.5015 - val_loss: 1.1540 - val_accuracy: 0.5595\n",
            "\n",
            "Epoch 00020: val_loss improved from 1.16279 to 1.15402, saving model to /contentfer2013simple_cnn.20-1.15.hdf5\n",
            "Epoch 21/30\n",
            "898/898 [==============================] - 26s 28ms/step - loss: 1.2921 - accuracy: 0.5103 - val_loss: 1.1651 - val_accuracy: 0.5535\n",
            "\n",
            "Epoch 00021: val_loss did not improve from 1.15402\n",
            "Epoch 22/30\n",
            "898/898 [==============================] - 26s 29ms/step - loss: 1.2921 - accuracy: 0.5087 - val_loss: 1.1362 - val_accuracy: 0.5690\n",
            "\n",
            "Epoch 00022: val_loss improved from 1.15402 to 1.13617, saving model to /contentfer2013simple_cnn.22-1.14.hdf5\n",
            "Epoch 23/30\n",
            "898/898 [==============================] - 26s 29ms/step - loss: 1.2882 - accuracy: 0.5093 - val_loss: 1.1399 - val_accuracy: 0.5663\n",
            "\n",
            "Epoch 00023: val_loss did not improve from 1.13617\n",
            "Epoch 24/30\n",
            "898/898 [==============================] - 26s 29ms/step - loss: 1.2854 - accuracy: 0.5111 - val_loss: 1.1724 - val_accuracy: 0.5563\n",
            "\n",
            "Epoch 00024: val_loss did not improve from 1.13617\n",
            "Epoch 25/30\n",
            "898/898 [==============================] - 25s 28ms/step - loss: 1.2772 - accuracy: 0.5147 - val_loss: 1.1784 - val_accuracy: 0.5536\n",
            "\n",
            "Epoch 00025: val_loss did not improve from 1.13617\n",
            "Epoch 26/30\n",
            "898/898 [==============================] - 26s 29ms/step - loss: 1.2736 - accuracy: 0.5157 - val_loss: 1.1752 - val_accuracy: 0.5503\n",
            "\n",
            "Epoch 00026: val_loss did not improve from 1.13617\n",
            "Epoch 27/30\n",
            "898/898 [==============================] - 27s 30ms/step - loss: 1.2792 - accuracy: 0.5131 - val_loss: 1.1507 - val_accuracy: 0.5575\n",
            "\n",
            "Epoch 00027: val_loss did not improve from 1.13617\n",
            "Epoch 28/30\n",
            "898/898 [==============================] - 26s 28ms/step - loss: 1.2703 - accuracy: 0.5182 - val_loss: 1.1351 - val_accuracy: 0.5624\n",
            "\n",
            "Epoch 00028: val_loss improved from 1.13617 to 1.13507, saving model to /contentfer2013simple_cnn.28-1.14.hdf5\n",
            "Epoch 29/30\n",
            "898/898 [==============================] - 26s 29ms/step - loss: 1.2687 - accuracy: 0.5175 - val_loss: 1.1815 - val_accuracy: 0.5410\n",
            "\n",
            "Epoch 00029: val_loss did not improve from 1.13507\n",
            "Epoch 30/30\n",
            "898/898 [==============================] - 26s 29ms/step - loss: 1.2706 - accuracy: 0.5166 - val_loss: 1.1163 - val_accuracy: 0.5697\n",
            "\n",
            "Epoch 00030: val_loss improved from 1.13507 to 1.11626, saving model to /contentfer2013simple_cnn.30-1.12.hdf5\n"
          ],
          "name": "stdout"
        }
      ]
    },
    {
      "cell_type": "markdown",
      "metadata": {
        "id": "py6W0E8z6SId",
        "colab_type": "text"
      },
      "source": [
        "**keras**\n",
        "* **callbacks** => an object that can perform actions at various stages of training\n",
        "      1. write tensorflowboard logs after every batch\n",
        "      2. periodically save model to disk\n",
        "      3. do early stopping \n",
        "      4. view on internal states and statistics during training\n",
        "      * used in fit() loop\n",
        "  * **CSVLogger(filename, separator=\",')**  --> to save epoch results to a csv file\n",
        "      * create obj and use that obj in fit(callbacks=[csv_logger_obj])\n",
        "  * **EarlyStopping()** --> stop training when a monitored metric \n",
        "  has stopped improving\n",
        "      1. monitor = \"val_loss\" --> loss function to be monitored\n",
        "      2. min_delta --> minimum change to count(threshold)\n",
        "      3. patience --> no of epochs with no improvement to stop training\n",
        "  * **ReduceLROnPlateau()**--> reduce learning rate when metric has stopped improving\n",
        "      1. monitor, patience, min_delta\n",
        "      2. factor = 0.1 ==> learning rate reduced to 10% (lr*0.1)\n",
        "      3. verbose ==> 0: quiet , 1: update msgs\n",
        "  * **ModelCheckpoint()** -->to save  keras model or model weights at some frequency\n",
        "      1. filepath\n",
        "      2. monitor --> val_acc or val_loss\n",
        "      3. save_best_only = True \n",
        "\n",
        "---\n",
        "fit_generator(.flow(X,y, batchsize), verbose,epochs,validation_data)"
      ]
    },
    {
      "cell_type": "markdown",
      "metadata": {
        "id": "8aTQpoDjDdsU",
        "colab_type": "text"
      },
      "source": [
        "* fit() ==> training loop\n",
        "* logs ==> dict"
      ]
    },
    {
      "cell_type": "code",
      "metadata": {
        "id": "vI4nPHW1WZ4r",
        "colab_type": "code",
        "colab": {
          "base_uri": "https://localhost:8080/",
          "height": 68
        },
        "outputId": "13b47143-8b6f-439f-c47c-49586042f5e3"
      },
      "source": [
        "#evaluate() returns [loss,acc]\n",
        "score = model.evaluate(val_x, val_y, verbose=1) \n",
        "print('Test loss:', score[0])\n",
        "print('Test accuracy:', score[1]*100)\n"
      ],
      "execution_count": null,
      "outputs": [
        {
          "output_type": "stream",
          "text": [
            "7178/7178 [==============================] - 1s 195us/step\n",
            "Test loss: 1.1162637857116673\n",
            "Test accuracy: 56.96572661399841\n"
          ],
          "name": "stdout"
        }
      ]
    },
    {
      "cell_type": "markdown",
      "metadata": {
        "id": "IXedkSpQncmu",
        "colab_type": "text"
      },
      "source": [
        "**history** ====> default callbacks that is registered when training \n",
        "\n",
        "        1.  records training metrics for each epoch\n",
        "        2. these metrics stored in dictionary in history member of object returned\n",
        "        3. obj returns from calls to fit() used to train model \n",
        "        4. data collected in history obj  used to create plots"
      ]
    },
    {
      "cell_type": "code",
      "metadata": {
        "id": "MzP_WR5DqZJE",
        "colab_type": "code",
        "colab": {
          "base_uri": "https://localhost:8080/",
          "height": 34
        },
        "outputId": "2c2e0a43-25ce-4ab6-b895-a71d3020db9e"
      },
      "source": [
        "\"\"\" metrics collected by history object \"\"\"\n",
        "history_dict=history.history\n",
        "history_dict.keys()"
      ],
      "execution_count": null,
      "outputs": [
        {
          "output_type": "execute_result",
          "data": {
            "text/plain": [
              "dict_keys(['val_loss', 'val_accuracy', 'loss', 'accuracy', 'lr'])"
            ]
          },
          "metadata": {
            "tags": []
          },
          "execution_count": 58
        }
      ]
    },
    {
      "cell_type": "code",
      "metadata": {
        "id": "rxGe4TkroeLK",
        "colab_type": "code",
        "colab": {
          "base_uri": "https://localhost:8080/",
          "height": 54
        },
        "outputId": "1c1d92a6-f043-4b45-bcbe-187d517110ec"
      },
      "source": [
        "print(history_dict[\"accuracy\"])"
      ],
      "execution_count": null,
      "outputs": [
        {
          "output_type": "stream",
          "text": [
            "[0.3049218, 0.35992196, 0.38824064, 0.41015014, 0.4316068, 0.44094187, 0.45410848, 0.46100527, 0.4678324, 0.47587866, 0.4777596, 0.48326308, 0.49221498, 0.4878958, 0.4931206, 0.49670836, 0.49911177, 0.50144553, 0.50350064, 0.5015152, 0.5102581, 0.50872546, 0.5092828, 0.5111289, 0.5147166, 0.5156571, 0.51311433, 0.51823467, 0.5174684, 0.51659757]\n"
          ],
          "name": "stdout"
        }
      ]
    },
    {
      "cell_type": "code",
      "metadata": {
        "id": "gzqA8Zq-UyqL",
        "colab_type": "code",
        "colab": {
          "base_uri": "https://localhost:8080/",
          "height": 295
        },
        "outputId": "93c787ed-30af-49b2-ca15-9a8f36937b67"
      },
      "source": [
        "\"\"\" Visualising model training history \"\"\"\n",
        "\n",
        "import matplotlib.pyplot as plt\n",
        "\n",
        "train_loss_values = history_dict['loss']\n",
        "val_loss_values = history_dict['val_loss']\n",
        "\n",
        "epochs = range(1, len(history_dict['accuracy']) + 1)\n",
        "\n",
        "plt.plot(epochs, train_loss_values, 'bo', label='Training loss')\n",
        "plt.plot(epochs, val_loss_values, 'b', label='Validation loss')\n",
        "plt.title('Training and validation loss')\n",
        "plt.xlabel('Epochs')\n",
        "plt.ylabel('Loss')\n",
        "plt.legend()\n",
        "plt.show()"
      ],
      "execution_count": null,
      "outputs": [
        {
          "output_type": "display_data",
          "data": {
            "image/png": "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\n",
            "text/plain": [
              "<Figure size 432x288 with 1 Axes>"
            ]
          },
          "metadata": {
            "tags": [],
            "needs_background": "light"
          }
        }
      ]
    },
    {
      "cell_type": "code",
      "metadata": {
        "id": "tEe3qvhv5ZA9",
        "colab_type": "code",
        "colab": {}
      },
      "source": [
        "train_acc = history_dict['accuracy']\n",
        "val_acc = history_dict['val_accuracy']\n",
        "plt.plot(epochs, train_acc, 'bo', label='Training acc')\n",
        "plt.plot(epochs, val_acc, 'b', label='Validation acc')\n",
        "plt.title('Training and validation accuracy')\n",
        "plt.xlabel('Epochs')\n",
        "plt.ylabel('Loss')\n",
        "plt.legend()\n",
        "plt.show()"
      ],
      "execution_count": null,
      "outputs": []
    },
    {
      "cell_type": "markdown",
      "metadata": {
        "id": "_qN9xk7ThKwQ",
        "colab_type": "text"
      },
      "source": [
        "## Testing the model on  some images"
      ]
    },
    {
      "cell_type": "code",
      "metadata": {
        "id": "2k1XVnmqbCNu",
        "colab_type": "code",
        "colab": {}
      },
      "source": [
        " emotion_dict = {0: \"Neutral\", 1: \"Disgusted\", 2: \"Fearful\", 3: \"Happy\", 4: \"Sad\", 5: \"Surprised\", 6: \"Neutral\"}\n",
        "\n",
        "  #emojis unicodes #\n",
        " emojis = { 0:\"\\U0001f620\",1:\"\\U0001f922\" ,2:\"\\U0001f628\" ,3:\"\\U0001f60A\" , 4:\"\\U0001f625\" ,5:\"\\U0001f632\",6:\"\\U0001f610\" }"
      ],
      "execution_count": 92,
      "outputs": []
    },
    {
      "cell_type": "code",
      "metadata": {
        "id": "q9Tm7hlE7953",
        "colab_type": "code",
        "colab": {
          "base_uri": "https://localhost:8080/",
          "height": 34
        },
        "outputId": "f29127d1-c3c3-48e3-86b1-f7ba972cec0c"
      },
      "source": [
        "print(emojis.values(),sep=\" \")"
      ],
      "execution_count": 83,
      "outputs": [
        {
          "output_type": "stream",
          "text": [
            "dict_values(['😠', '🤢', '😨', '😊', '😥', '😲', '😐'])\n"
          ],
          "name": "stdout"
        }
      ]
    },
    {
      "cell_type": "code",
      "metadata": {
        "id": "WC8haBpdsQnR",
        "colab_type": "code",
        "colab": {
          "base_uri": "https://localhost:8080/",
          "height": 102
        },
        "outputId": "40a2798d-9e5b-4379-db50-095e56946203"
      },
      "source": [
        "!cd content\n",
        "!pwd\n",
        "!ls"
      ],
      "execution_count": 13,
      "outputs": [
        {
          "output_type": "stream",
          "text": [
            "/bin/bash: line 0: cd: content: No such file or directory\n",
            "/content\n",
            "haarcascade_frontalface_default.xml  multistar.jpg    sample_data\n",
            "model.h5\t\t\t     ntr.jpg\n",
            "model.json\t\t\t     Ram_Charan.webp\n"
          ],
          "name": "stdout"
        }
      ]
    },
    {
      "cell_type": "code",
      "metadata": {
        "id": "jNlsHugdbC4C",
        "colab_type": "code",
        "colab": {}
      },
      "source": [
        "from google.colab.patches import cv2_imshow\n",
        "import cv2\n",
        "\n",
        "def _predict(path):\n",
        "  facecasc = cv2.CascadeClassifier('/content/haarcascade_frontalface_default.xml')\n",
        "  imagePath = '/content/'+path\n",
        "  image = cv2.imread(imagePath)\n",
        "  gray = cv2.cvtColor(image, cv2.COLOR_BGR2GRAY)\n",
        "  faces = facecasc.detectMultiScale(gray,scaleFactor=1.3, minNeighbors=10)\n",
        "  print(\"No of faces : \",len(faces))\n",
        "  i = 1\n",
        "  for (x, y, w, h) in faces:\n",
        "    cv2.rectangle(image, (x, y), (x+w, y+h), (0, 255, 0), 2)\n",
        "    roi_gray = gray[y:y + h, x:x + w]                      #croping\n",
        "    cropped_img = np.expand_dims(np.expand_dims(cv2.resize(roi_gray, (48, 48)), -1), 0)\n",
        "    prediction = model.predict(cropped_img)\n",
        "\n",
        "    maxindex = int(np.argmax(prediction))\n",
        "    print(\"person \",i,\" : \",emotion_dict[maxindex], \"-->\",emojis[maxindex])\n",
        "    cv2.putText(image, emotion_dict[maxindex], (x+10, y-20), cv2.FONT_HERSHEY_SIMPLEX, 0.7, (255, 255, 255), 2)  \n",
        "                                              #if text is not apeared , change coordinates. it may work\n",
        "  \n",
        "  cv2_imshow(image)"
      ],
      "execution_count": 84,
      "outputs": []
    },
    {
      "cell_type": "code",
      "metadata": {
        "id": "OXxZnpF1BliC",
        "colab_type": "code",
        "colab": {
          "base_uri": "https://localhost:8080/",
          "height": 1000
        },
        "outputId": "c9629700-4fe2-48d2-f39a-f9e475d66c88"
      },
      "source": [
        "_predict(\"images\\me.png\")"
      ],
      "execution_count": 93,
      "outputs": [
        {
          "output_type": "stream",
          "text": [
            "No of faces :  1\n",
            "person  1  :  Happy --> 😊\n"
          ],
          "name": "stdout"
        },
        {
          "output_type": "display_data",
          "data": {
            "image/png": "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